{
  "cells": [
    {
      "cell_type": "markdown",
      "metadata": {
        "id": "view-in-github",
        "colab_type": "text"
      },
      "source": [
        "<a href=\"https://colab.research.google.com/github/wcngai/colabs/blob/main/Protogenx3_4.ipynb\" target=\"_parent\"><img src=\"https://colab.research.google.com/assets/colab-badge.svg\" alt=\"Open In Colab\"/></a>"
      ]
    },
    {
      "cell_type": "code",
      "execution_count": null,
      "metadata": {
        "id": "sBbcB4vwj_jm"
      },
      "outputs": [],
      "source": [
        "#@title Google Drive Mounting\n",
        "from google.colab import drive\n",
        "drive.mount('/content/drive')"
      ]
    },
    {
      "cell_type": "code",
      "execution_count": null,
      "metadata": {
        "id": "061FCq_5sOjp"
      },
      "outputs": [],
      "source": [
        "#@title Download Stable Diffusion\n",
        "!git clone https://github.com/AUTOMATIC1111/stable-diffusion-webui\n",
        "!git clone https://github.com/yfszzx/stable-diffusion-webui-images-browser /content/stable-diffusion-webui/extensions/stable-diffusion-webui-images-browser"
      ]
    },
    {
      "cell_type": "code",
      "execution_count": null,
      "metadata": {
        "id": "1u9iuwiXtI_J"
      },
      "outputs": [],
      "source": [
        "#@title Copy Models\n",
        "\n",
        "## Best ##################################################################\n",
        "\n",
        "## hassanblend1512And_hassanblend1512.safetensors (safetensors)\n",
        "#!cp /content/drive/MyDrive/Stable_Diffusion_Models/hassanblend1512And_hassanblend1512.safetensors /content/stable-diffusion-webui/models/Stable-diffusion/hassanblend1512And_hassanblend1512.safetensors\n",
        "#!cp /content/drive/MyDrive/Stable_Diffusion_Models/vae-ft-mse-840000-ema-pruned.ckpt /content/stable-diffusion-webui/models/VAE/vae-ft-mse-840000-ema-pruned.ckpt\n",
        "\n",
        "## ProtogenX34 Photorealism (safetensors)\n",
        "#!cp /content/drive/MyDrive/Stable_Diffusion_Models/protogenX34Photorealism_1.safetensors /content/stable-diffusion-webui/models/Stable-diffusion/protogenX34Photorealism_1.safetensors\n",
        "\n",
        "## elegance_244.safetensors (checkpoint)\n",
        "#!cp /content/drive/MyDrive/Stable_Diffusion_Models/elegance_244.safetensors /content/stable-diffusion-webui/models/Stable-diffusion/elegance_244.safetensors\n",
        "\n",
        "## Clarity (checkpoint)\n",
        "#!cp /content/drive/MyDrive/Stable_Diffusion_Models/clarity_14.ckpt /content/stable-diffusion-webui/models/Stable-diffusion/clarity_14.ckpt\n",
        "\n",
        "## Need Double Check #####################################################\n",
        "\n",
        "## Moderate\n",
        "## Protogen X53 Photorealism 10 (safetensors)\n",
        "#!cp /content/drive/MyDrive/Stable_Diffusion_Models/protogenX53Photorealism_10.safetensors /content/stable-diffusion-webui/models/Stable-diffusion/protogenX53Photorealism_10.safetensors\n",
        "\n",
        "## ChillOutMix (safetensors)\n",
        "#!cp /content/drive/MyDrive/Stable_Diffusion_Models/chilloutmix_.safetensors /content/stable-diffusion-webui/models/Stable-diffusion/chilloutmix_.safetensors\n",
        "\n",
        "## chilloutmix_Ni.safetensors (safetensors)\n",
        "!cp /content/drive/MyDrive/Stable_Diffusion_Models/chilloutmix_Ni.safetensors /content/stable-diffusion-webui/models/Stable-diffusion/chilloutmix_Ni.safetensors\n",
        "\n",
        "## Grapelikedreamfruit (safetensors)\n",
        "#!cp /content/drive/MyDrive/Stable_Diffusion_Models/grapelikedreamfruit_clipFixedVersion.safetensors /content/stable-diffusion-webui/models/Stable-diffusion/grapelikedreamfruit_clipFixedVersion.safetensors\n",
        "\n",
        "## povSkinTexture_povSkinTextureDreamlike.safetensors (safetensors)\n",
        "#!cp /content/drive/MyDrive/Stable_Diffusion_Models/povSkinTexture_povSkinTextureDreamlike.safetensors /content/stable-diffusion-webui/models/Stable-diffusion/povSkinTexture_povSkinTextureDreamlike.safetensors\n",
        "\n",
        "## povSkinTexture_povSkinTextureDreamlike.safetensors (safetensors)\n",
        "#!cp /content/drive/MyDrive/Stable_Diffusion_Models/povSkinTexture_povSkinTextureDreamlike.safetensors /content/stable-diffusion-webui/models/Stable-diffusion/povSkinTexture_povSkinTextureDreamlike.safetensors\n",
        "\n",
        "## babes_11.ckpt (safetensors)\n",
        "#!cp /content/drive/MyDrive/Stable_Diffusion_Models/vae-ft-mse-840000-ema-pruned.vae.pt /content/stable-diffusion-webui/models/VAE/vae-ft-mse-840000-ema-pruned.vae.pt\n",
        "#!cp /content/drive/MyDrive/Stable_Diffusion_Models/vae-ft-mse-840000-ema-pruned.vae.pt /content/stable-diffusion-webui/models/Stable-diffusion/vae-ft-mse-840000-ema-pruned.vae.pt\n",
        "\n",
        "#!cp /content/drive/MyDrive/Stable_Diffusion_Models/babes_11.ckpt /content/stable-diffusion-webui/models/Stable-diffusion/babes_11.ckpt\n",
        "\n",
        "## protogenX58RebuiltScifi_10.safetensors (safetensors)\n",
        "#!cp /content/drive/MyDrive/Stable_Diffusion_Models/protogenX58RebuiltScifi_10.safetensors /content/stable-diffusion-webui/models/Stable-diffusion/protogenX58RebuiltScifi_10.safetensors\n",
        "\n",
        "\n",
        "## rinamix2_Fp16NoEma.safetensors (safetensors)\n",
        "#!cp /content/drive/MyDrive/Stable_Diffusion_Models/rinamix2_Fp16NoEma.safetensors /content/stable-diffusion-webui/models/Stable-diffusion/rinamix2_Fp16NoEma.safetensors\n",
        "\n",
        "\n",
        "\n",
        "## Orginal Codes - to download Photogen Models\n",
        "# !curl -Lo protogenx3.4.ckpt https://huggingface.co/darkstorm2150/Protogen_x3.4_Official_Release/resolve/main/ProtoGen_X3.4.ckpt\n",
        "# !mv \"/content/protogenx3.4.ckpt\" \"/content/stable-diffusion-webui/models/Stable-diffusion\""
      ]
    },
    {
      "cell_type": "code",
      "source": [
        "# Embedding\n",
        "\n",
        "\n",
        "## gal.ckpt\n",
        "##!cp /content/drive/MyDrive/Stable_Diffusion_Models/gal.ckpt /content/stable-diffusion-webui/embeddings/gal.ckpt\n",
        "##!cp /content/drive/MyDrive/Stable_Diffusion_Models/protogenX58RebuiltScifi_10.safetensors /content/stable-diffusion-webui/models/Stable-diffusion/gal.ckpt\n",
        "\n",
        "## galgadot-4000.pt\n",
        "#!cp /content/drive/MyDrive/Stable_Diffusion_Models/galgadot-4000.pt /content/stable-diffusion-webui/embeddings/galgadot-4000.pt\n",
        "\n",
        "## emb-daisy\n",
        "#!cp /content/drive/MyDrive/Stable_Diffusion_Models/emb-daisy.pt /content/stable-diffusion-webui/embeddings/emb-daisy.pt\n",
        "\n",
        "## Unshaved\n",
        "#!cp /content/drive/MyDrive/Stable_Diffusion_Models/Style-Unshaved.pt /content/stable-diffusion-webui/embeddings/Style-Unshaved.pt\n",
        "\n",
        "\n",
        "## ulzzang-6500.pt\n",
        "!cp /content/drive/MyDrive/Stable_Diffusion_Models/ulzzang-6500.pt /content/stable-diffusion-webui/embeddings/ulzzang-6500.pt\n",
        "\n"
      ],
      "metadata": {
        "id": "0fHsdVj6ebFY"
      },
      "execution_count": null,
      "outputs": []
    },
    {
      "cell_type": "code",
      "source": [
        "import uuid\n",
        "oneTimePassword = uuid.uuid4()\n",
        "\n",
        "print(\"============================================== HERE IS THE ONE TIME PASSWORD\")\n",
        "print(oneTimePassword) \n",
        "print('\\n\\n')"
      ],
      "metadata": {
        "id": "Mmc2yPqBRciQ"
      },
      "execution_count": null,
      "outputs": []
    },
    {
      "cell_type": "code",
      "execution_count": null,
      "metadata": {
        "id": "BMYiME1RoL3p"
      },
      "outputs": [],
      "source": [
        "%cd /content/stable-diffusion-webui\n",
        "\n",
        "!pip install --upgrade fastapi==0.90.1\n",
        "\n",
        "\n",
        "## Original\n",
        "!git checkout 91c8d0d\n",
        "#!COMMANDLINE_ARGS=\"--share --disable-safe-unpickle --no-half-vae --xformers --reinstall-xformers --enable-insecure-extension-access\" REQS_FILE=\"requirements.txt\" python launch.py\n",
        "\n",
        "!sed -i '$a fastapi==0.90.0' requirements_versions.txt\n",
        "!COMMANDLINE_ARGS=\"--share --disable-safe-unpickle --no-half-vae --xformers --reinstall-xformers --enable-insecure-extension-access --gradio-auth admin:{oneTimePassword}\" REQS_FILE=\"requirements.txt\" python launch.py\n",
        "    "
      ]
    }
  ],
  "metadata": {
    "accelerator": "GPU",
    "colab": {
      "provenance": [],
      "include_colab_link": true
    },
    "gpuClass": "standard",
    "kernelspec": {
      "display_name": "Python 3",
      "name": "python3"
    },
    "language_info": {
      "name": "python"
    }
  },
  "nbformat": 4,
  "nbformat_minor": 0
}