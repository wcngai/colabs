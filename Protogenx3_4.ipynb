{
  "cells": [
    {
      "cell_type": "markdown",
      "metadata": {
        "id": "view-in-github",
        "colab_type": "text"
      },
      "source": [
        "<a href=\"https://colab.research.google.com/github/wcngai/colabs/blob/main/Protogenx3_4.ipynb\" target=\"_parent\"><img src=\"https://colab.research.google.com/assets/colab-badge.svg\" alt=\"Open In Colab\"/></a>"
      ]
    },
    {
      "cell_type": "code",
      "execution_count": 1,
      "metadata": {
        "id": "sBbcB4vwj_jm",
        "outputId": "6a26b259-8616-4ddd-a301-f0273edc1fdb",
        "colab": {
          "base_uri": "https://localhost:8080/"
        }
      },
      "outputs": [
        {
          "output_type": "stream",
          "name": "stdout",
          "text": [
            "Mounted at /content/drive\n"
          ]
        }
      ],
      "source": [
        "#@title Google Drive Mounting\n",
        "from google.colab import drive\n",
        "drive.mount('/content/drive')"
      ]
    },
    {
      "cell_type": "code",
      "execution_count": 2,
      "metadata": {
        "id": "061FCq_5sOjp",
        "outputId": "d5d6c124-d8b0-4473-bec7-429193b12083",
        "colab": {
          "base_uri": "https://localhost:8080/"
        }
      },
      "outputs": [
        {
          "output_type": "stream",
          "name": "stdout",
          "text": [
            "Cloning into 'stable-diffusion-webui'...\n",
            "remote: Enumerating objects: 17850, done.\u001b[K\n",
            "remote: Total 17850 (delta 0), reused 0 (delta 0), pack-reused 17850\u001b[K\n",
            "Receiving objects: 100% (17850/17850), 28.32 MiB | 29.29 MiB/s, done.\n",
            "Resolving deltas: 100% (12471/12471), done.\n",
            "Cloning into '/content/stable-diffusion-webui/extensions/stable-diffusion-webui-images-browser'...\n",
            "remote: Enumerating objects: 143, done.\u001b[K\n",
            "remote: Counting objects: 100% (34/34), done.\u001b[K\n",
            "remote: Compressing objects: 100% (13/13), done.\u001b[K\n",
            "remote: Total 143 (delta 25), reused 21 (delta 21), pack-reused 109\u001b[K\n",
            "Receiving objects: 100% (143/143), 37.96 KiB | 1.15 MiB/s, done.\n",
            "Resolving deltas: 100% (51/51), done.\n"
          ]
        }
      ],
      "source": [
        "#@title Download Stable Diffusion\n",
        "!git clone https://github.com/AUTOMATIC1111/stable-diffusion-webui\n",
        "!git clone https://github.com/yfszzx/stable-diffusion-webui-images-browser /content/stable-diffusion-webui/extensions/stable-diffusion-webui-images-browser"
      ]
    },
    {
      "cell_type": "code",
      "execution_count": 3,
      "metadata": {
        "id": "1u9iuwiXtI_J"
      },
      "outputs": [],
      "source": [
        "#@title Copy Models\n",
        "\n",
        "## Best ##################################################################\n",
        "\n",
        "## hassanblend1512And_hassanblend1512.safetensors (safetensors)\n",
        "#!cp /content/drive/MyDrive/Stable_Diffusion_Models/hassanblend1512And_hassanblend1512.safetensors /content/stable-diffusion-webui/models/Stable-diffusion/hassanblend1512And_hassanblend1512.safetensors\n",
        "#!cp /content/drive/MyDrive/Stable_Diffusion_Models/vae-ft-mse-840000-ema-pruned.ckpt /content/stable-diffusion-webui/models/VAE/vae-ft-mse-840000-ema-pruned.ckpt\n",
        "\n",
        "## ProtogenX34 Photorealism (safetensors)\n",
        "#!cp /content/drive/MyDrive/Stable_Diffusion_Models/protogenX34Photorealism_1.safetensors /content/stable-diffusion-webui/models/Stable-diffusion/protogenX34Photorealism_1.safetensors\n",
        "\n",
        "## elegance_244.safetensors (checkpoint)\n",
        "#!cp /content/drive/MyDrive/Stable_Diffusion_Models/elegance_244.safetensors /content/stable-diffusion-webui/models/Stable-diffusion/elegance_244.safetensors\n",
        "\n",
        "## Clarity (checkpoint)\n",
        "#!cp /content/drive/MyDrive/Stable_Diffusion_Models/clarity_14.ckpt /content/stable-diffusion-webui/models/Stable-diffusion/clarity_14.ckpt\n",
        "\n",
        "## Need Double Check #####################################################\n",
        "\n",
        "## Moderate\n",
        "## Protogen X53 Photorealism 10 (safetensors)\n",
        "#!cp /content/drive/MyDrive/Stable_Diffusion_Models/protogenX53Photorealism_10.safetensors /content/stable-diffusion-webui/models/Stable-diffusion/protogenX53Photorealism_10.safetensors\n",
        "\n",
        "## ChillOutMix (safetensors)\n",
        "#!cp /content/drive/MyDrive/Stable_Diffusion_Models/chilloutmix_.safetensors /content/stable-diffusion-webui/models/Stable-diffusion/chilloutmix_.safetensors\n",
        "\n",
        "## chilloutmix_NiPrunedFp32Fix.safetensors (safetensors)\n",
        "#!cp /content/drive/MyDrive/Stable_Diffusion_Models/chilloutmix_NiPrunedFp32Fix.safetensors /content/stable-diffusion-webui/models/Stable-diffusion/chilloutmix_NiPrunedFp32Fix.safetensors\n",
        "\n",
        "\n",
        "## chilloutmix_Ni.safetensors (safetensors)\n",
        "#!cp /content/drive/MyDrive/Stable_Diffusion_Models/chilloutmix_Ni.safetensors /content/stable-diffusion-webui/models/Stable-diffusion/chilloutmix_Ni.safetensors\n",
        "\n",
        "## chilloutmix_Ni.safetensors (safetensors)\n",
        "!cp /content/drive/MyDrive/Stable_Diffusion_Models/chilloutmix_NiPrunedFp32Fix.safetensors /content/stable-diffusion-webui/models/Stable-diffusion/chilloutmix_NiPrunedFp32Fix.safetensors\n",
        "\n",
        "\n",
        "\n",
        "## Grapelikedreamfruit (safetensors)\n",
        "#!cp /content/drive/MyDrive/Stable_Diffusion_Models/grapelikedreamfruit_clipFixedVersion.safetensors /content/stable-diffusion-webui/models/Stable-diffusion/grapelikedreamfruit_clipFixedVersion.safetensors\n",
        "\n",
        "## povSkinTexture_povSkinTextureDreamlike.safetensors (safetensors)\n",
        "#!cp /content/drive/MyDrive/Stable_Diffusion_Models/povSkinTexture_povSkinTextureDreamlike.safetensors /content/stable-diffusion-webui/models/Stable-diffusion/povSkinTexture_povSkinTextureDreamlike.safetensors\n",
        "\n",
        "## povSkinTexture_povSkinTextureDreamlike.safetensors (safetensors)\n",
        "#!cp /content/drive/MyDrive/Stable_Diffusion_Models/povSkinTexture_povSkinTextureDreamlike.safetensors /content/stable-diffusion-webui/models/Stable-diffusion/povSkinTexture_povSkinTextureDreamlike.safetensors\n",
        "\n",
        "## babes_11.ckpt (safetensors)\n",
        "#!cp /content/drive/MyDrive/Stable_Diffusion_Models/vae-ft-mse-840000-ema-pruned.vae.pt /content/stable-diffusion-webui/models/VAE/vae-ft-mse-840000-ema-pruned.vae.pt\n",
        "#!cp /content/drive/MyDrive/Stable_Diffusion_Models/vae-ft-mse-840000-ema-pruned.vae.pt /content/stable-diffusion-webui/models/Stable-diffusion/vae-ft-mse-840000-ema-pruned.vae.pt\n",
        "\n",
        "#!cp /content/drive/MyDrive/Stable_Diffusion_Models/babes_11.ckpt /content/stable-diffusion-webui/models/Stable-diffusion/babes_11.ckpt\n",
        "\n",
        "## protogenX58RebuiltScifi_10.safetensors (safetensors)\n",
        "#!cp /content/drive/MyDrive/Stable_Diffusion_Models/protogenX58RebuiltScifi_10.safetensors /content/stable-diffusion-webui/models/Stable-diffusion/protogenX58RebuiltScifi_10.safetensors\n",
        "\n",
        "## rinamix2_Fp16NoEma.safetensors (safetensors)\n",
        "#!cp /content/drive/MyDrive/Stable_Diffusion_Models/rinamix2_Fp16NoEma.safetensors /content/stable-diffusion-webui/models/Stable-diffusion/rinamix2_Fp16NoEma.safetensors\n",
        "\n",
        "## AloeVera's - SimpMaker Series (Pruned+Vae) Update\n",
        "#!cp /content/drive/MyDrive/Stable_Diffusion_Models/aloeverasSimpmakerSeries_simpmaker3k3Pruned.safetensors /content/stable-diffusion-webui/models/Stable-diffusion/aloeverasSimpmakerSeries_simpmaker3k3Pruned.safetensors\n",
        "\n",
        "## AloeVera's - SimpMaker Series (Pruned+Vae) Update\n",
        "#!cp /content/drive/MyDrive/Stable_Diffusion_Models/aloeverasSimpmakerSeries_simpmaker3k3Pruned.safetensors /content/stable-diffusion-webui/models/Stable-diffusion/aloeverasSimpmakerSeries_simpmaker3k3Pruned.safetensors\n",
        "\n",
        "\n",
        "\n",
        "## RealDOSMix (safetensors)\n",
        "#!cp /content/drive/MyDrive/Stable_Diffusion_Models/realdosmix_.safetensors /content/stable-diffusion-webui/models/Stable-diffusion/realdosmix_.safetensors\n",
        "\n",
        "\n",
        "## DreamShaper\n",
        "#!cp /content/drive/MyDrive/Stable_Diffusion_Models/dreamshaper_331BakedVae.safetensors /content/stable-diffusion-webui/models/Stable-diffusion/dreamshaper_331BakedVae.safetensors\n",
        "\n",
        "\n",
        "\n",
        "#cheeseDaddys_35.safetensors\n",
        "#!cp /content/drive/MyDrive/Stable_Diffusion_Models/cheeseDaddys_35.safetensors /content/stable-diffusion-webui/models/Stable-diffusion/cheeseDaddys_35.safetensors\n",
        "\n",
        "\n",
        "\n",
        "## Orginal Codes - to download Photogen Models\n",
        "# !curl -Lo protogenx3.4.ckpt https://huggingface.co/darkstorm2150/Protogen_x3.4_Official_Release/resolve/main/ProtoGen_X3.4.ckpt\n",
        "# !mv \"/content/protogenx3.4.ckpt\" \"/content/stable-diffusion-webui/models/Stable-diffusion\""
      ]
    },
    {
      "cell_type": "code",
      "source": [
        "#@title Copy Lora\n",
        "##!mkdir /content/stable-diffusion-webui/models/Lora\n",
        "\n",
        "## Korean Doll Likeness (safetensors)\n",
        "#!cp /content/drive/MyDrive/Stable_Diffusion_Models/koreanDollLikeness_v10.safetensors /content/stable-diffusion-webui/extensions/sd-webui-additional-networks/models/lora/koreanDollLikeness_v10.safetensors\n",
        "\n",
        "## Taiwan Doll Likeness (safetensors)\n",
        "#!cp /content/drive/MyDrive/Stable_Diffusion_Models/taiwanDollLikeness_v10.safetensors /content/stable-diffusion-webui/extensions/sd-webui-additional-networks/models/lora/taiwanDollLikeness_v10.safetensors\n",
        "\n",
        "## realdosmix_LoRA300 (safetensors)\n",
        "##!cp /content/drive/MyDrive/Stable_Diffusion_Models/realdosmixLora300_realdosmixLora300.safetensors /content/stable-diffusion-webui/models/Lora/realdosmixLora300_realdosmixLora300.safetensors\n",
        "\n",
        "## dpep2 768.pt (safetensors)\n",
        "##!cp /content/drive/MyDrive/Stable_Diffusion_Models/dpep2_768.pt /content/stable-diffusion-webui/models/Lora/dpep2_768.pt\n",
        "\n",
        "## xiTheKing_v1.safetensors\n",
        "#!cp /content/drive/MyDrive/Stable_Diffusion_LORA/xiTheKing_v1.safetensors /content/stable-diffusion-webui/extensions/sd-webui-additional-networks/models/lora/xiTheKing_v1.safetensors\n",
        "\n",
        "## Xiaorenshu_v10.safetensors\n",
        "#!cp /content/drive/MyDrive/Stable_Diffusion_LORA/Xiaorenshu_v10.safetensors /content/stable-diffusion-webui/extensions/sd-webui-additional-networks/models/lora/Xiaorenshu_v10.safetensors\n",
        "\n",
        "## Moxin_10.safetensors\n",
        "#!cp /content/drive/MyDrive/Stable_Diffusion_LORA/Moxin_10.safetensors /content/stable-diffusion-webui/extensions/sd-webui-additional-networks/models/lora/Moxin_10.safetensors\n",
        "\n",
        "## Moxin_Shukezouma11.safetensors\n",
        "#!cp /content/drive/MyDrive/Stable_Diffusion_LORA/Moxin_Shukezouma11.safetensors /content/stable-diffusion-webui/extensions/sd-webui-additional-networks/models/lora/Moxin_Shukezouma11.safetensors\n",
        "\n",
        "## russianDollLikeness_v3.safetensors\n",
        "#!cp /content/drive/MyDrive/Stable_Diffusion_LORA/russianDollLikeness_v3.safetensors /content/stable-diffusion-webui/extensions/sd-webui-additional-networks/models/lora/russianDollLikeness_v3.safetensors\n",
        "\n",
        "## cuteGirlMix4_v10.safetensors\n",
        "#!cp /content/drive/MyDrive/Stable_Diffusion_LORA/cuteGirlMix4_v10.safetensors /content/stable-diffusion-webui/extensions/sd-webui-additional-networks/models/lora/cuteGirlMix4_v10.safetensors\n",
        "\n",
        "## susuTTSiennasueLocon_siennasue.safetensors\n",
        "#!cp /content/drive/MyDrive/Stable_Diffusion_LORA/susuTTSiennasueLocon_siennasue.safetensors /content/stable-diffusion-webui/extensions/sd-webui-additional-networks/models/lora/susuTTSiennasueLocon_siennasue.safetensors\n",
        "\n",
        "\n",
        "## mikuya_v15.safetensors\n",
        "#!cp /content/drive/MyDrive/Stable_Diffusion_LORA/mikuya_v15.safetensors /content/stable-diffusion-webui/extensions/sd-webui-additional-networks/models/lora/mikuya_v15.safetensors\n",
        "\n",
        "\n",
        "## RussianDollV3.safetensors\n",
        "!cp /content/drive/MyDrive/Stable_Diffusion_LORA/RussianDollV3.safetensors /content/stable-diffusion-webui/models/Lora/RussianDollV3.safetensors\n"
      ],
      "metadata": {
        "id": "Afkc0N5rXcQg"
      },
      "execution_count": 11,
      "outputs": []
    },
    {
      "cell_type": "code",
      "source": [
        "#@title Copy Embedding\n",
        "\n",
        "## gal.ckpt\n",
        "##!cp /content/drive/MyDrive/Stable_Diffusion_Models/gal.ckpt /content/stable-diffusion-webui/embeddings/gal.ckpt\n",
        "##!cp /content/drive/MyDrive/Stable_Diffusion_Models/protogenX58RebuiltScifi_10.safetensors /content/stable-diffusion-webui/models/Stable-diffusion/gal.ckpt\n",
        "\n",
        "## galgadot-4000.pt\n",
        "#!cp /content/drive/MyDrive/Stable_Diffusion_Models/galgadot-4000.pt /content/stable-diffusion-webui/embeddings/galgadot-4000.pt\n",
        "\n",
        "## emb-daisy\n",
        "#!cp /content/drive/MyDrive/Stable_Diffusion_Models/emb-daisy.pt /content/stable-diffusion-webui/embeddings/emb-daisy.pt\n",
        "\n",
        "## Unshaved\n",
        "#!cp /content/drive/MyDrive/Stable_Diffusion_Models/Style-Unshaved.pt /content/stable-diffusion-webui/embeddings/Style-Unshaved.pt\n",
        "\n",
        "\n",
        "## ulzzang-6500.pt\n",
        "#!cp /content/drive/MyDrive/Stable_Diffusion_Models/ulzzang-6500.pt /content/stable-diffusion-webui/embeddings/ulzzang-6500.pt\n",
        "\n",
        "\n",
        "!cp /content/drive/MyDrive/Stable_Diffusion_Models/ulzzang-6500-v1.1.bin /content/stable-diffusion-webui/embeddings/ulzzang.bin\n"
      ],
      "metadata": {
        "id": "0fHsdVj6ebFY"
      },
      "execution_count": null,
      "outputs": []
    },
    {
      "cell_type": "code",
      "source": [
        "#@title Copy VAE\n",
        "\n",
        "## Semi-realism vae-ft-mse-840000-ema-pruned.ckpt\n",
        "!cp /content/drive/MyDrive/Stable_Diffusion_Models/vae-ft-mse-840000-ema-pruned.ckpt /content/stable-diffusion-webui/models/VAE/vae-ft-mse-840000-ema-pruned.ckpt\n"
      ],
      "metadata": {
        "id": "l8Wr7QEnXO45"
      },
      "execution_count": 6,
      "outputs": []
    },
    {
      "cell_type": "code",
      "source": [
        "#@title ControlNet Models\n",
        "\n",
        "## UI Plugin URL\n",
        "# https://github.com/Mikubill/sd-webui-controlnet\n",
        "\n",
        "## Hugging Models\n",
        "# https://huggingface.co/lllyasviel/ControlNet/tree/main/models\n",
        "\n",
        "# Canny\n",
        "#!cp /content/drive/MyDrive/Stable_Diffusion_ControlNet/control_sd15_canny.pth /content/stable-diffusion-webui/extensions/sd-webui-controlnet/models/control_sd15_canny.pth\n",
        "\n",
        "# MSLD - Good for building, rooms, construct with straight lines\n",
        "#!cp /content/drive/MyDrive/Stable_Diffusion_ControlNet/control_sd15_mlsd.pth /content/stable-diffusion-webui/extensions/sd-webui-controlnet/models/control_sd15_mlsd.pth\n",
        "\n",
        "# Depth\n",
        "#!cp /content/drive/MyDrive/Stable_Diffusion_ControlNet/control_sd15_depth.pth /content/stable-diffusion-webui/extensions/sd-webui-controlnet/models/control_sd15_depth.pth\n",
        "\n",
        "# Open Pose\n",
        "!cp /content/drive/MyDrive/Stable_Diffusion_ControlNet/control_sd15_openpose.pth /content/stable-diffusion-webui/extensions/sd-webui-controlnet/models/control_sd15_openpose.pth\n",
        "\n",
        "\n",
        "# Scribble\n",
        "#!cp /content/drive/MyDrive/Stable_Diffusion_ControlNet/control_sd15_scribble.pth /content/stable-diffusion-webui/extensions/sd-webui-controlnet/models/control_sd15_scribble.pth\n",
        "\n",
        "\n"
      ],
      "metadata": {
        "id": "CUjRU2VzTvnx"
      },
      "execution_count": null,
      "outputs": []
    },
    {
      "cell_type": "code",
      "source": [
        "#@title Extension from Github\n",
        "\n",
        "\n",
        "## \n",
        "%cd /content/stable-diffusion-webui/extensions\n",
        "!git clone https://github.com/hnmr293/sd-webui-llul.git\n"
      ],
      "metadata": {
        "id": "hcfIkXE5lhyS",
        "outputId": "95eb5234-d52e-4826-eca2-2abc3d44ba55",
        "colab": {
          "base_uri": "https://localhost:8080/"
        }
      },
      "execution_count": 23,
      "outputs": [
        {
          "output_type": "stream",
          "name": "stdout",
          "text": [
            "/content/stable-diffusion-webui/extensions\n",
            "Cloning into 'sd-webui-llul'...\n",
            "remote: Enumerating objects: 138, done.\u001b[K\n",
            "remote: Counting objects: 100% (138/138), done.\u001b[K\n",
            "remote: Compressing objects: 100% (92/92), done.\u001b[K\n",
            "remote: Total 138 (delta 60), reused 116 (delta 40), pack-reused 0\u001b[K\n",
            "Receiving objects: 100% (138/138), 13.20 MiB | 20.99 MiB/s, done.\n",
            "Resolving deltas: 100% (60/60), done.\n"
          ]
        }
      ]
    },
    {
      "cell_type": "markdown",
      "source": [
        "##Launch UI"
      ],
      "metadata": {
        "id": "v1rbzWPicARy"
      }
    },
    {
      "cell_type": "code",
      "source": [
        "import uuid\n",
        "oneTimePassword = uuid.uuid4()\n",
        "\n",
        "print(\"============================================== HERE IS THE ONE TIME PASSWORD\")\n",
        "print(oneTimePassword) \n",
        "print('\\n\\n')"
      ],
      "metadata": {
        "id": "Mmc2yPqBRciQ",
        "outputId": "a7a1fa59-efb8-4c85-9187-a14f43be5fab",
        "colab": {
          "base_uri": "https://localhost:8080/"
        }
      },
      "execution_count": 12,
      "outputs": [
        {
          "output_type": "stream",
          "name": "stdout",
          "text": [
            "============================================== HERE IS THE ONE TIME PASSWORD\n",
            "72dae172-2af3-44b1-bbcb-072169fad1a3\n",
            "\n",
            "\n",
            "\n"
          ]
        }
      ]
    },
    {
      "cell_type": "code",
      "source": [
        "#@title Installing Packages\n",
        "\n",
        "%cd /content/stable-diffusion-webui\n",
        "\n",
        "!pip install --upgrade fastapi==0.90.1\n",
        "!pip install opencv-python\n",
        "\n",
        "\n",
        "!pip install torch==1.13.1+cu117 torchvision==0.14.1+cu117 torchtext==0.14.1 torchaudio==0.13.1 torchdata==0.5.1 --extra-index-url https://download.pytorch.org/whl/cu117"
      ],
      "metadata": {
        "id": "fFoWm0aKpQbI",
        "outputId": "63874a6f-3b5b-42ee-f83f-0a5e15373452",
        "colab": {
          "base_uri": "https://localhost:8080/"
        }
      },
      "execution_count": 15,
      "outputs": [
        {
          "output_type": "stream",
          "name": "stdout",
          "text": [
            "/content/stable-diffusion-webui\n",
            "Looking in indexes: https://pypi.org/simple, https://us-python.pkg.dev/colab-wheels/public/simple/\n",
            "Requirement already satisfied: fastapi==0.90.1 in /usr/local/lib/python3.10/dist-packages (0.90.1)\n",
            "Requirement already satisfied: starlette<0.24.0,>=0.22.0 in /usr/local/lib/python3.10/dist-packages (from fastapi==0.90.1) (0.23.1)\n",
            "Requirement already satisfied: pydantic!=1.7,!=1.7.1,!=1.7.2,!=1.7.3,!=1.8,!=1.8.1,<2.0.0,>=1.6.2 in /usr/local/lib/python3.10/dist-packages (from fastapi==0.90.1) (1.10.7)\n",
            "Requirement already satisfied: typing-extensions>=4.2.0 in /usr/local/lib/python3.10/dist-packages (from pydantic!=1.7,!=1.7.1,!=1.7.2,!=1.7.3,!=1.8,!=1.8.1,<2.0.0,>=1.6.2->fastapi==0.90.1) (4.5.0)\n",
            "Requirement already satisfied: anyio<5,>=3.4.0 in /usr/local/lib/python3.10/dist-packages (from starlette<0.24.0,>=0.22.0->fastapi==0.90.1) (3.6.2)\n",
            "Requirement already satisfied: idna>=2.8 in /usr/local/lib/python3.10/dist-packages (from anyio<5,>=3.4.0->starlette<0.24.0,>=0.22.0->fastapi==0.90.1) (3.4)\n",
            "Requirement already satisfied: sniffio>=1.1 in /usr/local/lib/python3.10/dist-packages (from anyio<5,>=3.4.0->starlette<0.24.0,>=0.22.0->fastapi==0.90.1) (1.3.0)\n",
            "Looking in indexes: https://pypi.org/simple, https://us-python.pkg.dev/colab-wheels/public/simple/\n",
            "Requirement already satisfied: opencv-python in /usr/local/lib/python3.10/dist-packages (4.7.0.72)\n",
            "Requirement already satisfied: numpy>=1.19.3 in /usr/local/lib/python3.10/dist-packages (from opencv-python) (1.22.4)\n",
            "Looking in indexes: https://pypi.org/simple, https://us-python.pkg.dev/colab-wheels/public/simple/, https://download.pytorch.org/whl/cu117\n",
            "Collecting torch==1.13.1+cu117\n",
            "  Downloading https://download.pytorch.org/whl/cu117/torch-1.13.1%2Bcu117-cp310-cp310-linux_x86_64.whl (1801.8 MB)\n",
            "\u001b[2K     \u001b[90m━━━━━━━━━━━━━━━━━━━━━━━━━━━━━━━━━━━━━━━━\u001b[0m \u001b[32m1.8/1.8 GB\u001b[0m \u001b[31m1.1 MB/s\u001b[0m eta \u001b[36m0:00:00\u001b[0m\n",
            "\u001b[?25hCollecting torchvision==0.14.1+cu117\n",
            "  Downloading https://download.pytorch.org/whl/cu117/torchvision-0.14.1%2Bcu117-cp310-cp310-linux_x86_64.whl (24.3 MB)\n",
            "\u001b[2K     \u001b[90m━━━━━━━━━━━━━━━━━━━━━━━━━━━━━━━━━━━━━━━━\u001b[0m \u001b[32m24.3/24.3 MB\u001b[0m \u001b[31m50.5 MB/s\u001b[0m eta \u001b[36m0:00:00\u001b[0m\n",
            "\u001b[?25hCollecting torchtext==0.14.1\n",
            "  Downloading torchtext-0.14.1-cp310-cp310-manylinux1_x86_64.whl (2.0 MB)\n",
            "\u001b[2K     \u001b[90m━━━━━━━━━━━━━━━━━━━━━━━━━━━━━━━━━━━━━━━━\u001b[0m \u001b[32m2.0/2.0 MB\u001b[0m \u001b[31m37.5 MB/s\u001b[0m eta \u001b[36m0:00:00\u001b[0m\n",
            "\u001b[?25hCollecting torchaudio==0.13.1\n",
            "  Downloading https://download.pytorch.org/whl/cu117/torchaudio-0.13.1%2Bcu117-cp310-cp310-linux_x86_64.whl (4.2 MB)\n",
            "\u001b[2K     \u001b[90m━━━━━━━━━━━━━━━━━━━━━━━━━━━━━━━━━━━━━━━━\u001b[0m \u001b[32m4.2/4.2 MB\u001b[0m \u001b[31m67.1 MB/s\u001b[0m eta \u001b[36m0:00:00\u001b[0m\n",
            "\u001b[?25hCollecting torchdata==0.5.1\n",
            "  Downloading torchdata-0.5.1-cp310-cp310-manylinux_2_17_x86_64.manylinux2014_x86_64.whl (4.6 MB)\n",
            "\u001b[2K     \u001b[90m━━━━━━━━━━━━━━━━━━━━━━━━━━━━━━━━━━━━━━━━\u001b[0m \u001b[32m4.6/4.6 MB\u001b[0m \u001b[31m84.5 MB/s\u001b[0m eta \u001b[36m0:00:00\u001b[0m\n",
            "\u001b[?25hRequirement already satisfied: typing-extensions in /usr/local/lib/python3.10/dist-packages (from torch==1.13.1+cu117) (4.5.0)\n",
            "Requirement already satisfied: numpy in /usr/local/lib/python3.10/dist-packages (from torchvision==0.14.1+cu117) (1.22.4)\n",
            "Requirement already satisfied: requests in /usr/local/lib/python3.10/dist-packages (from torchvision==0.14.1+cu117) (2.27.1)\n",
            "Requirement already satisfied: pillow!=8.3.*,>=5.3.0 in /usr/local/lib/python3.10/dist-packages (from torchvision==0.14.1+cu117) (9.5.0)\n",
            "Requirement already satisfied: tqdm in /usr/local/lib/python3.10/dist-packages (from torchtext==0.14.1) (4.65.0)\n",
            "Collecting portalocker>=2.0.0\n",
            "  Downloading portalocker-2.7.0-py2.py3-none-any.whl (15 kB)\n",
            "Requirement already satisfied: urllib3>=1.25 in /usr/local/lib/python3.10/dist-packages (from torchdata==0.5.1) (1.26.15)\n",
            "Requirement already satisfied: charset-normalizer~=2.0.0 in /usr/local/lib/python3.10/dist-packages (from requests->torchvision==0.14.1+cu117) (2.0.12)\n",
            "Requirement already satisfied: certifi>=2017.4.17 in /usr/local/lib/python3.10/dist-packages (from requests->torchvision==0.14.1+cu117) (2022.12.7)\n",
            "Requirement already satisfied: idna<4,>=2.5 in /usr/local/lib/python3.10/dist-packages (from requests->torchvision==0.14.1+cu117) (3.4)\n",
            "Installing collected packages: torch, portalocker, torchvision, torchtext, torchdata, torchaudio\n",
            "  Attempting uninstall: torch\n",
            "    Found existing installation: torch 2.0.0\n",
            "    Uninstalling torch-2.0.0:\n",
            "      Successfully uninstalled torch-2.0.0\n",
            "  Attempting uninstall: torchvision\n",
            "    Found existing installation: torchvision 0.15.1+cu118\n",
            "    Uninstalling torchvision-0.15.1+cu118:\n",
            "      Successfully uninstalled torchvision-0.15.1+cu118\n",
            "  Attempting uninstall: torchtext\n",
            "    Found existing installation: torchtext 0.15.1\n",
            "    Uninstalling torchtext-0.15.1:\n",
            "      Successfully uninstalled torchtext-0.15.1\n",
            "  Attempting uninstall: torchdata\n",
            "    Found existing installation: torchdata 0.6.0\n",
            "    Uninstalling torchdata-0.6.0:\n",
            "      Successfully uninstalled torchdata-0.6.0\n",
            "  Attempting uninstall: torchaudio\n",
            "    Found existing installation: torchaudio 2.0.1+cu118\n",
            "    Uninstalling torchaudio-2.0.1+cu118:\n",
            "      Successfully uninstalled torchaudio-2.0.1+cu118\n",
            "\u001b[31mERROR: pip's dependency resolver does not currently take into account all the packages that are installed. This behaviour is the source of the following dependency conflicts.\n",
            "open-clip-torch 2.7.0 requires protobuf==3.20.0, but you have protobuf 3.20.3 which is incompatible.\u001b[0m\u001b[31m\n",
            "\u001b[0mSuccessfully installed portalocker-2.7.0 torch-1.13.1+cu117 torchaudio-0.13.1+cu117 torchdata-0.5.1 torchtext-0.14.1 torchvision-0.14.1+cu117\n"
          ]
        }
      ]
    },
    {
      "cell_type": "code",
      "execution_count": 17,
      "metadata": {
        "id": "BMYiME1RoL3p",
        "outputId": "0ba7aed1-bc91-457a-c084-b1843b27137e",
        "colab": {
          "base_uri": "https://localhost:8080/"
        }
      },
      "outputs": [
        {
          "output_type": "stream",
          "name": "stdout",
          "text": [
            "/content/stable-diffusion-webui\n",
            "M\trequirements_versions.txt\n",
            "HEAD is now at 91c8d0dc Merge pull request #7231 from EllangoK/master\n",
            "Python 3.10.11 (main, Apr  5 2023, 14:15:10) [GCC 9.4.0]\n",
            "Commit hash: 91c8d0dcfc9a5d46aec47fd3eb34c633c104b5bb\n",
            "Installing xformers\n",
            "Installing requirements for Web UI\n",
            "Launching Web UI with arguments: --share --disable-safe-unpickle --no-half-vae --xformers --enable-insecure-extension-access --gradio-auth admin:72dae172-2af3-44b1-bbcb-072169fad1a3\n",
            "2023-04-29 05:55:35.819911: I tensorflow/core/util/port.cc:110] oneDNN custom operations are on. You may see slightly different numerical results due to floating-point round-off errors from different computation orders. To turn them off, set the environment variable `TF_ENABLE_ONEDNN_OPTS=0`.\n",
            "2023-04-29 05:55:35.876784: I tensorflow/core/platform/cpu_feature_guard.cc:182] This TensorFlow binary is optimized to use available CPU instructions in performance-critical operations.\n",
            "To enable the following instructions: AVX2 AVX512F AVX512_VNNI FMA, in other operations, rebuild TensorFlow with the appropriate compiler flags.\n",
            "2023-04-29 05:55:36.800864: W tensorflow/compiler/tf2tensorrt/utils/py_utils.cc:38] TF-TRT Warning: Could not find TensorRT\n",
            "Loading weights [fc2511737a] from /content/stable-diffusion-webui/models/Stable-diffusion/chilloutmix_NiPrunedFp32Fix.safetensors\n",
            "Creating model from config: /content/stable-diffusion-webui/configs/v1-inference.yaml\n",
            "LatentDiffusion: Running in eps-prediction mode\n",
            "DiffusionWrapper has 859.52 M params.\n",
            "Loading VAE weights specified in settings: /content/stable-diffusion-webui/models/VAE/vae-ft-mse-840000-ema-pruned.ckpt\n",
            "Applying xformers cross attention optimization.\n",
            "Textual inversion embeddings loaded(0): \n",
            "Model loaded in 4.5s (load weights from disk: 0.3s, create model: 0.5s, apply weights to model: 0.5s, apply half(): 0.3s, load VAE: 2.3s, move model to device: 0.6s).\n",
            "Running on local URL:  http://127.0.0.1:7860\n",
            "Running on public URL: https://965de54c-a283-4390.gradio.live\n",
            "\n",
            "This share link expires in 72 hours. For free permanent hosting and GPU upgrades (NEW!), check out Spaces: https://huggingface.co/spaces\n",
            "Interrupted with signal 2 in <frame at 0xf526b70, file '/content/stable-diffusion-webui/webui.py', line 164, code wait_on_server>\n",
            "\u001b[31m╭─\u001b[0m\u001b[31m────────────────────\u001b[0m\u001b[31m \u001b[0m\u001b[1;31mTraceback \u001b[0m\u001b[1;2;31m(most recent call last)\u001b[0m\u001b[31m \u001b[0m\u001b[31m─────────────────────\u001b[0m\u001b[31m─╮\u001b[0m\n",
            "\u001b[31m│\u001b[0m \u001b[2;33m/content/stable-diffusion-webui/\u001b[0m\u001b[1;33mlaunch.py\u001b[0m:\u001b[94m360\u001b[0m in \u001b[92m<module>\u001b[0m                    \u001b[31m│\u001b[0m\n",
            "\u001b[31m│\u001b[0m                                                                              \u001b[31m│\u001b[0m\n",
            "\u001b[31m│\u001b[0m   \u001b[2m357 \u001b[0m                                                                       \u001b[31m│\u001b[0m\n",
            "\u001b[31m│\u001b[0m   \u001b[2m358 \u001b[0m\u001b[94mif\u001b[0m \u001b[91m__name__\u001b[0m == \u001b[33m\"\u001b[0m\u001b[33m__main__\u001b[0m\u001b[33m\"\u001b[0m:                                             \u001b[31m│\u001b[0m\n",
            "\u001b[31m│\u001b[0m   \u001b[2m359 \u001b[0m\u001b[2m│   \u001b[0mprepare_environment()                                              \u001b[31m│\u001b[0m\n",
            "\u001b[31m│\u001b[0m \u001b[31m❱ \u001b[0m360 \u001b[2m│   \u001b[0mstart()                                                            \u001b[31m│\u001b[0m\n",
            "\u001b[31m│\u001b[0m   \u001b[2m361 \u001b[0m                                                                       \u001b[31m│\u001b[0m\n",
            "\u001b[31m│\u001b[0m                                                                              \u001b[31m│\u001b[0m\n",
            "\u001b[31m│\u001b[0m \u001b[2;33m/content/stable-diffusion-webui/\u001b[0m\u001b[1;33mlaunch.py\u001b[0m:\u001b[94m355\u001b[0m in \u001b[92mstart\u001b[0m                       \u001b[31m│\u001b[0m\n",
            "\u001b[31m│\u001b[0m                                                                              \u001b[31m│\u001b[0m\n",
            "\u001b[31m│\u001b[0m   \u001b[2m352 \u001b[0m\u001b[2m│   \u001b[0m\u001b[94mif\u001b[0m \u001b[33m'\u001b[0m\u001b[33m--nowebui\u001b[0m\u001b[33m'\u001b[0m \u001b[95min\u001b[0m sys.argv:                                        \u001b[31m│\u001b[0m\n",
            "\u001b[31m│\u001b[0m   \u001b[2m353 \u001b[0m\u001b[2m│   │   \u001b[0mwebui.api_only()                                               \u001b[31m│\u001b[0m\n",
            "\u001b[31m│\u001b[0m   \u001b[2m354 \u001b[0m\u001b[2m│   \u001b[0m\u001b[94melse\u001b[0m:                                                              \u001b[31m│\u001b[0m\n",
            "\u001b[31m│\u001b[0m \u001b[31m❱ \u001b[0m355 \u001b[2m│   │   \u001b[0mwebui.webui()                                                  \u001b[31m│\u001b[0m\n",
            "\u001b[31m│\u001b[0m   \u001b[2m356 \u001b[0m                                                                       \u001b[31m│\u001b[0m\n",
            "\u001b[31m│\u001b[0m   \u001b[2m357 \u001b[0m                                                                       \u001b[31m│\u001b[0m\n",
            "\u001b[31m│\u001b[0m   \u001b[2m358 \u001b[0m\u001b[94mif\u001b[0m \u001b[91m__name__\u001b[0m == \u001b[33m\"\u001b[0m\u001b[33m__main__\u001b[0m\u001b[33m\"\u001b[0m:                                             \u001b[31m│\u001b[0m\n",
            "\u001b[31m│\u001b[0m                                                                              \u001b[31m│\u001b[0m\n",
            "\u001b[31m│\u001b[0m \u001b[2;33m/content/stable-diffusion-webui/\u001b[0m\u001b[1;33mwebui.py\u001b[0m:\u001b[94m232\u001b[0m in \u001b[92mwebui\u001b[0m                        \u001b[31m│\u001b[0m\n",
            "\u001b[31m│\u001b[0m                                                                              \u001b[31m│\u001b[0m\n",
            "\u001b[31m│\u001b[0m   \u001b[2m229 \u001b[0m\u001b[2m│   │   \u001b[0m                                                               \u001b[31m│\u001b[0m\n",
            "\u001b[31m│\u001b[0m   \u001b[2m230 \u001b[0m\u001b[2m│   │   \u001b[0mmodules.script_callbacks.app_started_callback(shared.demo, app \u001b[31m│\u001b[0m\n",
            "\u001b[31m│\u001b[0m   \u001b[2m231 \u001b[0m\u001b[2m│   │   \u001b[0m                                                               \u001b[31m│\u001b[0m\n",
            "\u001b[31m│\u001b[0m \u001b[31m❱ \u001b[0m232 \u001b[2m│   │   \u001b[0mwait_on_server(shared.demo)                                    \u001b[31m│\u001b[0m\n",
            "\u001b[31m│\u001b[0m   \u001b[2m233 \u001b[0m\u001b[2m│   │   \u001b[0m\u001b[96mprint\u001b[0m(\u001b[33m'\u001b[0m\u001b[33mRestarting UI...\u001b[0m\u001b[33m'\u001b[0m)                                      \u001b[31m│\u001b[0m\n",
            "\u001b[31m│\u001b[0m   \u001b[2m234 \u001b[0m\u001b[2m│   │   \u001b[0m                                                               \u001b[31m│\u001b[0m\n",
            "\u001b[31m│\u001b[0m   \u001b[2m235 \u001b[0m\u001b[2m│   │   \u001b[0msd_samplers.set_samplers()                                     \u001b[31m│\u001b[0m\n",
            "\u001b[31m│\u001b[0m                                                                              \u001b[31m│\u001b[0m\n",
            "\u001b[31m│\u001b[0m \u001b[2;33m/content/stable-diffusion-webui/\u001b[0m\u001b[1;33mwebui.py\u001b[0m:\u001b[94m164\u001b[0m in \u001b[92mwait_on_server\u001b[0m               \u001b[31m│\u001b[0m\n",
            "\u001b[31m│\u001b[0m                                                                              \u001b[31m│\u001b[0m\n",
            "\u001b[31m│\u001b[0m   \u001b[2m161 \u001b[0m                                                                       \u001b[31m│\u001b[0m\n",
            "\u001b[31m│\u001b[0m   \u001b[2m162 \u001b[0m\u001b[94mdef\u001b[0m \u001b[92mwait_on_server\u001b[0m(demo=\u001b[94mNone\u001b[0m):                                         \u001b[31m│\u001b[0m\n",
            "\u001b[31m│\u001b[0m   \u001b[2m163 \u001b[0m\u001b[2m│   \u001b[0m\u001b[94mwhile\u001b[0m \u001b[94m1\u001b[0m:                                                           \u001b[31m│\u001b[0m\n",
            "\u001b[31m│\u001b[0m \u001b[31m❱ \u001b[0m164 \u001b[2m│   │   \u001b[0mtime.sleep(\u001b[94m0.5\u001b[0m)                                                \u001b[31m│\u001b[0m\n",
            "\u001b[31m│\u001b[0m   \u001b[2m165 \u001b[0m\u001b[2m│   │   \u001b[0m\u001b[94mif\u001b[0m shared.state.need_restart:                                  \u001b[31m│\u001b[0m\n",
            "\u001b[31m│\u001b[0m   \u001b[2m166 \u001b[0m\u001b[2m│   │   │   \u001b[0mshared.state.need_restart = \u001b[94mFalse\u001b[0m                          \u001b[31m│\u001b[0m\n",
            "\u001b[31m│\u001b[0m   \u001b[2m167 \u001b[0m\u001b[2m│   │   │   \u001b[0mtime.sleep(\u001b[94m0.5\u001b[0m)                                            \u001b[31m│\u001b[0m\n",
            "\u001b[31m│\u001b[0m                                                                              \u001b[31m│\u001b[0m\n",
            "\u001b[31m│\u001b[0m \u001b[2;33m/content/stable-diffusion-webui/\u001b[0m\u001b[1;33mwebui.py\u001b[0m:\u001b[94m141\u001b[0m in \u001b[92msigint_handler\u001b[0m               \u001b[31m│\u001b[0m\n",
            "\u001b[31m│\u001b[0m                                                                              \u001b[31m│\u001b[0m\n",
            "\u001b[31m│\u001b[0m   \u001b[2m138 \u001b[0m\u001b[2m│   \u001b[0m                                                                   \u001b[31m│\u001b[0m\n",
            "\u001b[31m│\u001b[0m   \u001b[2m139 \u001b[0m\u001b[2m│   \u001b[0m\u001b[2m# make the program just exit at ctrl+c without waiting for anythin\u001b[0m \u001b[31m│\u001b[0m\n",
            "\u001b[31m│\u001b[0m   \u001b[2m140 \u001b[0m\u001b[2m│   \u001b[0m\u001b[94mdef\u001b[0m \u001b[92msigint_handler\u001b[0m(sig, frame):                                    \u001b[31m│\u001b[0m\n",
            "\u001b[31m│\u001b[0m \u001b[31m❱ \u001b[0m141 \u001b[2m│   │   \u001b[0m\u001b[96mprint\u001b[0m(\u001b[33mf\u001b[0m\u001b[33m'\u001b[0m\u001b[33mInterrupted with signal \u001b[0m\u001b[33m{\u001b[0msig\u001b[33m}\u001b[0m\u001b[33m in \u001b[0m\u001b[33m{\u001b[0mframe\u001b[33m}\u001b[0m\u001b[33m'\u001b[0m)             \u001b[31m│\u001b[0m\n",
            "\u001b[31m│\u001b[0m   \u001b[2m142 \u001b[0m\u001b[2m│   │   \u001b[0mos._exit(\u001b[94m0\u001b[0m)                                                    \u001b[31m│\u001b[0m\n",
            "\u001b[31m│\u001b[0m   \u001b[2m143 \u001b[0m\u001b[2m│   \u001b[0m                                                                   \u001b[31m│\u001b[0m\n",
            "\u001b[31m│\u001b[0m   \u001b[2m144 \u001b[0m\u001b[2m│   \u001b[0msignal.signal(signal.SIGINT, sigint_handler)                       \u001b[31m│\u001b[0m\n",
            "\u001b[31m│\u001b[0m                                                                              \u001b[31m│\u001b[0m\n",
            "\u001b[31m│\u001b[0m \u001b[2;33m/content/stable-diffusion-webui/\u001b[0m\u001b[1;33mwebui.py\u001b[0m:\u001b[94m141\u001b[0m in \u001b[92msigint_handler\u001b[0m               \u001b[31m│\u001b[0m\n",
            "\u001b[31m│\u001b[0m                                                                              \u001b[31m│\u001b[0m\n",
            "\u001b[31m│\u001b[0m   \u001b[2m138 \u001b[0m\u001b[2m│   \u001b[0m                                                                   \u001b[31m│\u001b[0m\n",
            "\u001b[31m│\u001b[0m   \u001b[2m139 \u001b[0m\u001b[2m│   \u001b[0m\u001b[2m# make the program just exit at ctrl+c without waiting for anythin\u001b[0m \u001b[31m│\u001b[0m\n",
            "\u001b[31m│\u001b[0m   \u001b[2m140 \u001b[0m\u001b[2m│   \u001b[0m\u001b[94mdef\u001b[0m \u001b[92msigint_handler\u001b[0m(sig, frame):                                    \u001b[31m│\u001b[0m\n",
            "\u001b[31m│\u001b[0m \u001b[31m❱ \u001b[0m141 \u001b[2m│   │   \u001b[0m\u001b[96mprint\u001b[0m(\u001b[33mf\u001b[0m\u001b[33m'\u001b[0m\u001b[33mInterrupted with signal \u001b[0m\u001b[33m{\u001b[0msig\u001b[33m}\u001b[0m\u001b[33m in \u001b[0m\u001b[33m{\u001b[0mframe\u001b[33m}\u001b[0m\u001b[33m'\u001b[0m)             \u001b[31m│\u001b[0m\n",
            "\u001b[31m│\u001b[0m   \u001b[2m142 \u001b[0m\u001b[2m│   │   \u001b[0mos._exit(\u001b[94m0\u001b[0m)                                                    \u001b[31m│\u001b[0m\n",
            "\u001b[31m│\u001b[0m   \u001b[2m143 \u001b[0m\u001b[2m│   \u001b[0m                                                                   \u001b[31m│\u001b[0m\n",
            "\u001b[31m│\u001b[0m   \u001b[2m144 \u001b[0m\u001b[2m│   \u001b[0msignal.signal(signal.SIGINT, sigint_handler)                       \u001b[31m│\u001b[0m\n",
            "\u001b[31m╰──────────────────────────────────────────────────────────────────────────────╯\u001b[0m\n",
            "\u001b[1;91mRuntimeError: \u001b[0mreentrant call inside \u001b[1m<\u001b[0m\u001b[1;95m_io.BufferedWriter\u001b[0m\u001b[39m \u001b[0m\u001b[33mname\u001b[0m\u001b[39m=\u001b[0m\u001b[32m'<stdout>'\u001b[0m\u001b[1m>\u001b[0m\n",
            "Killing tunnel 127.0.0.1:7860 <> https://965de54c-a283-4390.gradio.live\n",
            "^C\n"
          ]
        }
      ],
      "source": [
        "%cd /content/stable-diffusion-webui\n",
        "\n",
        "#!pip install --upgrade fastapi==0.90.1\n",
        "#!pip install opencv-python\n",
        "\n",
        "## Original\n",
        "!git checkout 91c8d0d\n",
        "#!COMMANDLINE_ARGS=\"--share --disable-safe-unpickle --no-half-vae --xformers --reinstall-xformers --enable-insecure-extension-access\" REQS_FILE=\"requirements.txt\" python launch.py\n",
        "\n",
        "!sed -i '$a fastapi==0.90.0' requirements_versions.txt\n",
        "!COMMANDLINE_ARGS=\"--share --disable-safe-unpickle --no-half-vae --xformers --reinstall-xformers --enable-insecure-extension-access --gradio-auth admin:{oneTimePassword}\" REQS_FILE=\"requirements.txt\" python launch.py\n",
        "    "
      ]
    },
    {
      "cell_type": "code",
      "source": [
        "@#title Update Frontend\n",
        "\n",
        "## sd_model_checkpoint, sd_vae, sd_hypernetwork, CLIP_stop_at_last_layers, sd_hypernetwork_strength"
      ],
      "metadata": {
        "id": "JfyG7z6Vq0lu"
      },
      "execution_count": null,
      "outputs": []
    }
  ],
  "metadata": {
    "accelerator": "GPU",
    "colab": {
      "provenance": [],
      "machine_shape": "hm",
      "include_colab_link": true
    },
    "gpuClass": "premium",
    "kernelspec": {
      "display_name": "Python 3",
      "name": "python3"
    },
    "language_info": {
      "name": "python"
    }
  },
  "nbformat": 4,
  "nbformat_minor": 0
}