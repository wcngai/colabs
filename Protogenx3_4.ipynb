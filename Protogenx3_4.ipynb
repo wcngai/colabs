{
  "cells": [
    {
      "cell_type": "markdown",
      "metadata": {
        "id": "view-in-github",
        "colab_type": "text"
      },
      "source": [
        "<a href=\"https://colab.research.google.com/github/wcngai/colabs/blob/main/Protogenx3_4.ipynb\" target=\"_parent\"><img src=\"https://colab.research.google.com/assets/colab-badge.svg\" alt=\"Open In Colab\"/></a>"
      ]
    },
    {
      "cell_type": "code",
      "execution_count": null,
      "metadata": {
        "id": "sBbcB4vwj_jm",
        "cellView": "form"
      },
      "outputs": [],
      "source": [
        "#@title Google Drive Mounting\n",
        "from google.colab import drive\n",
        "drive.mount('/content/drive')"
      ]
    },
    {
      "cell_type": "code",
      "source": [
        "#@title Download Stable Diffusion\n",
        "!git clone https://github.com/AUTOMATIC1111/stable-diffusion-webui\n",
        "!git clone https://github.com/yfszzx/stable-diffusion-webui-images-browser /content/stable-diffusion-webui/extensions/stable-diffusion-webui-images-browser"
      ],
      "metadata": {
        "id": "061FCq_5sOjp",
        "cellView": "form"
      },
      "execution_count": null,
      "outputs": []
    },
    {
      "cell_type": "code",
      "source": [
        "#@title Copy Models\n",
        "\n",
        "## Protogen X53 Photorealism 10 (safetensors)\n",
        "#!cp /content/drive/MyDrive/Stable_Diffusion_Models/protogenX53Photorealism_10.safetensors /content/stable-diffusion-webui/models/Stable-diffusion/protogenX53Photorealism_10.safetensors\n",
        "\n",
        "## chilloutmix_.safetensors (safetensors)\n",
        "!cp /content/drive/MyDrive/Stable_Diffusion_Models/chilloutmix_.safetensors /content/stable-diffusion-webui/models/Stable-diffusion/chilloutmix_.safetensors\n",
        "\n",
        "\n",
        "\n",
        "## Orginal Codes - to download Photogen Models\n",
        "# !curl -Lo protogenx3.4.ckpt https://huggingface.co/darkstorm2150/Protogen_x3.4_Official_Release/resolve/main/ProtoGen_X3.4.ckpt\n",
        "# !mv \"/content/protogenx3.4.ckpt\" \"/content/stable-diffusion-webui/models/Stable-diffusion\"\n"
      ],
      "metadata": {
        "id": "1u9iuwiXtI_J"
      },
      "execution_count": null,
      "outputs": []
    },
    {
      "cell_type": "code",
      "source": [
        "%cd /content/stable-diffusion-webui\n",
        "\n",
        "!git checkout 91c8d0d\n",
        "!COMMANDLINE_ARGS=\"--share --disable-safe-unpickle --no-half-vae --xformers --reinstall-xformers --enable-insecure-extension-access\" REQS_FILE=\"requirements.txt\" python launch.py"
      ],
      "metadata": {
        "id": "BMYiME1RoL3p"
      },
      "execution_count": null,
      "outputs": []
    }
  ],
  "metadata": {
    "accelerator": "GPU",
    "colab": {
      "provenance": [],
      "include_colab_link": true
    },
    "gpuClass": "standard",
    "kernelspec": {
      "display_name": "Python 3",
      "name": "python3"
    },
    "language_info": {
      "name": "python"
    }
  },
  "nbformat": 4,
  "nbformat_minor": 0
}