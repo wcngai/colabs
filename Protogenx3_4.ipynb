{
  "cells": [
    {
      "cell_type": "markdown",
      "metadata": {
        "id": "view-in-github",
        "colab_type": "text"
      },
      "source": [
        "<a href=\"https://colab.research.google.com/github/wcngai/colabs/blob/main/Protogenx3_4.ipynb\" target=\"_parent\"><img src=\"https://colab.research.google.com/assets/colab-badge.svg\" alt=\"Open In Colab\"/></a>"
      ]
    },
    {
      "cell_type": "code",
      "execution_count": 1,
      "metadata": {
        "id": "sBbcB4vwj_jm",
        "outputId": "0d112a63-7063-44b1-a6d7-1dd41032519c",
        "colab": {
          "base_uri": "https://localhost:8080/"
        }
      },
      "outputs": [
        {
          "output_type": "stream",
          "name": "stdout",
          "text": [
            "Mounted at /content/drive\n"
          ]
        }
      ],
      "source": [
        "#@title Google Drive Mounting\n",
        "from google.colab import drive\n",
        "drive.mount('/content/drive')"
      ]
    },
    {
      "cell_type": "code",
      "execution_count": 2,
      "metadata": {
        "id": "061FCq_5sOjp",
        "outputId": "666af176-ebca-4b63-ec68-2c906a6c844f",
        "colab": {
          "base_uri": "https://localhost:8080/"
        }
      },
      "outputs": [
        {
          "output_type": "stream",
          "name": "stdout",
          "text": [
            "Cloning into 'stable-diffusion-webui'...\n",
            "remote: Enumerating objects: 16434, done.\u001b[K\n",
            "remote: Total 16434 (delta 0), reused 0 (delta 0), pack-reused 16434\u001b[K\n",
            "Receiving objects: 100% (16434/16434), 27.51 MiB | 41.49 MiB/s, done.\n",
            "Resolving deltas: 100% (11493/11493), done.\n",
            "Cloning into '/content/stable-diffusion-webui/extensions/stable-diffusion-webui-images-browser'...\n",
            "remote: Enumerating objects: 143, done.\u001b[K\n",
            "remote: Counting objects: 100% (34/34), done.\u001b[K\n",
            "remote: Compressing objects: 100% (13/13), done.\u001b[K\n",
            "remote: Total 143 (delta 25), reused 21 (delta 21), pack-reused 109\u001b[K\n",
            "Receiving objects: 100% (143/143), 37.92 KiB | 2.37 MiB/s, done.\n",
            "Resolving deltas: 100% (51/51), done.\n"
          ]
        }
      ],
      "source": [
        "#@title Download Stable Diffusion\n",
        "!git clone https://github.com/AUTOMATIC1111/stable-diffusion-webui\n",
        "!git clone https://github.com/yfszzx/stable-diffusion-webui-images-browser /content/stable-diffusion-webui/extensions/stable-diffusion-webui-images-browser"
      ]
    },
    {
      "cell_type": "code",
      "execution_count": 3,
      "metadata": {
        "id": "1u9iuwiXtI_J"
      },
      "outputs": [],
      "source": [
        "#@title Copy Models\n",
        "\n",
        "## Best ##################################################################\n",
        "\n",
        "## hassanblend1512And_hassanblend1512.safetensors (safetensors)\n",
        "#!cp /content/drive/MyDrive/Stable_Diffusion_Models/hassanblend1512And_hassanblend1512.safetensors /content/stable-diffusion-webui/models/Stable-diffusion/hassanblend1512And_hassanblend1512.safetensors\n",
        "#!cp /content/drive/MyDrive/Stable_Diffusion_Models/vae-ft-mse-840000-ema-pruned.ckpt /content/stable-diffusion-webui/models/VAE/vae-ft-mse-840000-ema-pruned.ckpt\n",
        "\n",
        "## ProtogenX34 Photorealism (safetensors)\n",
        "!cp /content/drive/MyDrive/Stable_Diffusion_Models/protogenX34Photorealism_1.safetensors /content/stable-diffusion-webui/models/Stable-diffusion/protogenX34Photorealism_1.safetensors\n",
        "\n",
        "## elegance_244.safetensors (checkpoint)\n",
        "#!cp /content/drive/MyDrive/Stable_Diffusion_Models/elegance_244.safetensors /content/stable-diffusion-webui/models/Stable-diffusion/elegance_244.safetensors\n",
        "\n",
        "## Clarity (checkpoint)\n",
        "#!cp /content/drive/MyDrive/Stable_Diffusion_Models/clarity_14.ckpt /content/stable-diffusion-webui/models/Stable-diffusion/clarity_14.ckpt\n",
        "\n",
        "## Need Double Check #####################################################\n",
        "\n",
        "## Moderate\n",
        "## Protogen X53 Photorealism 10 (safetensors)\n",
        "#!cp /content/drive/MyDrive/Stable_Diffusion_Models/protogenX53Photorealism_10.safetensors /content/stable-diffusion-webui/models/Stable-diffusion/protogenX53Photorealism_10.safetensors\n",
        "\n",
        "## ChillOutMix (safetensors)\n",
        "!cp /content/drive/MyDrive/Stable_Diffusion_Models/chilloutmix_.safetensors /content/stable-diffusion-webui/models/Stable-diffusion/chilloutmix_.safetensors\n",
        "\n",
        "## chilloutmix_NiPrunedFp32Fix.safetensors (safetensors)\n",
        "!cp /content/drive/MyDrive/Stable_Diffusion_Models/chilloutmix_NiPrunedFp32Fix.safetensors /content/stable-diffusion-webui/models/Stable-diffusion/chilloutmix_NiPrunedFp32Fix.safetensors\n",
        "\n",
        "\n",
        "## chilloutmix_Ni.safetensors (safetensors)\n",
        "#!cp /content/drive/MyDrive/Stable_Diffusion_Models/chilloutmix_Ni.safetensors /content/stable-diffusion-webui/models/Stable-diffusion/chilloutmix_Ni.safetensors\n",
        "\n",
        "## Grapelikedreamfruit (safetensors)\n",
        "#!cp /content/drive/MyDrive/Stable_Diffusion_Models/grapelikedreamfruit_clipFixedVersion.safetensors /content/stable-diffusion-webui/models/Stable-diffusion/grapelikedreamfruit_clipFixedVersion.safetensors\n",
        "\n",
        "## povSkinTexture_povSkinTextureDreamlike.safetensors (safetensors)\n",
        "#!cp /content/drive/MyDrive/Stable_Diffusion_Models/povSkinTexture_povSkinTextureDreamlike.safetensors /content/stable-diffusion-webui/models/Stable-diffusion/povSkinTexture_povSkinTextureDreamlike.safetensors\n",
        "\n",
        "## povSkinTexture_povSkinTextureDreamlike.safetensors (safetensors)\n",
        "#!cp /content/drive/MyDrive/Stable_Diffusion_Models/povSkinTexture_povSkinTextureDreamlike.safetensors /content/stable-diffusion-webui/models/Stable-diffusion/povSkinTexture_povSkinTextureDreamlike.safetensors\n",
        "\n",
        "## babes_11.ckpt (safetensors)\n",
        "#!cp /content/drive/MyDrive/Stable_Diffusion_Models/vae-ft-mse-840000-ema-pruned.vae.pt /content/stable-diffusion-webui/models/VAE/vae-ft-mse-840000-ema-pruned.vae.pt\n",
        "#!cp /content/drive/MyDrive/Stable_Diffusion_Models/vae-ft-mse-840000-ema-pruned.vae.pt /content/stable-diffusion-webui/models/Stable-diffusion/vae-ft-mse-840000-ema-pruned.vae.pt\n",
        "\n",
        "#!cp /content/drive/MyDrive/Stable_Diffusion_Models/babes_11.ckpt /content/stable-diffusion-webui/models/Stable-diffusion/babes_11.ckpt\n",
        "\n",
        "## protogenX58RebuiltScifi_10.safetensors (safetensors)\n",
        "#!cp /content/drive/MyDrive/Stable_Diffusion_Models/protogenX58RebuiltScifi_10.safetensors /content/stable-diffusion-webui/models/Stable-diffusion/protogenX58RebuiltScifi_10.safetensors\n",
        "\n",
        "## rinamix2_Fp16NoEma.safetensors (safetensors)\n",
        "#!cp /content/drive/MyDrive/Stable_Diffusion_Models/rinamix2_Fp16NoEma.safetensors /content/stable-diffusion-webui/models/Stable-diffusion/rinamix2_Fp16NoEma.safetensors\n",
        "\n",
        "## AloeVera's - SimpMaker Series (Pruned+Vae) Update\n",
        "#!cp /content/drive/MyDrive/Stable_Diffusion_Models/aloeverasSimpmakerSeries_simpmaker3k3Pruned.safetensors /content/stable-diffusion-webui/models/Stable-diffusion/aloeverasSimpmakerSeries_simpmaker3k3Pruned.safetensors\n",
        "\n",
        "## AloeVera's - SimpMaker Series (Pruned+Vae) Update\n",
        "#!cp /content/drive/MyDrive/Stable_Diffusion_Models/aloeverasSimpmakerSeries_simpmaker3k3Pruned.safetensors /content/stable-diffusion-webui/models/Stable-diffusion/aloeverasSimpmakerSeries_simpmaker3k3Pruned.safetensors\n",
        "\n",
        "\n",
        "\n",
        "## RealDOSMix (safetensors)\n",
        "#!cp /content/drive/MyDrive/Stable_Diffusion_Models/realdosmix_.safetensors /content/stable-diffusion-webui/models/Stable-diffusion/realdosmix_.safetensors\n",
        "\n",
        "\n",
        "## DreamShaper\n",
        "#!cp /content/drive/MyDrive/Stable_Diffusion_Models/dreamshaper_331BakedVae.safetensors /content/stable-diffusion-webui/models/Stable-diffusion/dreamshaper_331BakedVae.safetensors\n",
        "\n",
        "\n",
        "\n",
        "#cheeseDaddys_35.safetensors\n",
        "#!cp /content/drive/MyDrive/Stable_Diffusion_Models/cheeseDaddys_35.safetensors /content/stable-diffusion-webui/models/Stable-diffusion/cheeseDaddys_35.safetensors\n",
        "\n",
        "\n",
        "\n",
        "## Orginal Codes - to download Photogen Models\n",
        "# !curl -Lo protogenx3.4.ckpt https://huggingface.co/darkstorm2150/Protogen_x3.4_Official_Release/resolve/main/ProtoGen_X3.4.ckpt\n",
        "# !mv \"/content/protogenx3.4.ckpt\" \"/content/stable-diffusion-webui/models/Stable-diffusion\""
      ]
    },
    {
      "cell_type": "code",
      "source": [
        "#@title Copy Lora\n",
        "\n",
        "!mkdir /content/stable-diffusion-webui/models/Lora\n",
        "\n",
        "## Korean Doll Likeness (safetensors)\n",
        "!cp /content/drive/MyDrive/Stable_Diffusion_Models/koreanDollLikeness_v10.safetensors /content/stable-diffusion-webui/models/Lora/koreanDollLikeness_v10.safetensors\n",
        "\n",
        "## Taiwan Doll Likeness (safetensors)\n",
        "#!cp /content/drive/MyDrive/Stable_Diffusion_Models/taiwanDollLikeness_v10.safetensors /content/stable-diffusion-webui/models/Lora/taiwanDollLikeness_v10.safetensors\n",
        "\n",
        "## realdosmix_LoRA300 (safetensors)\n",
        "#!cp /content/drive/MyDrive/Stable_Diffusion_Models/realdosmixLora300_realdosmixLora300.safetensors /content/stable-diffusion-webui/models/Lora/realdosmixLora300_realdosmixLora300.safetensors\n",
        "\n",
        "## dpep2 768.pt (safetensors)\n",
        "#!cp /content/drive/MyDrive/Stable_Diffusion_Models/dpep2_768.pt /content/stable-diffusion-webui/models/Lora/dpep2_768.pt\n",
        "\n",
        "\n"
      ],
      "metadata": {
        "id": "Afkc0N5rXcQg"
      },
      "execution_count": 4,
      "outputs": []
    },
    {
      "cell_type": "code",
      "source": [
        "#@title Copy Embedding\n",
        "\n",
        "## gal.ckpt\n",
        "##!cp /content/drive/MyDrive/Stable_Diffusion_Models/gal.ckpt /content/stable-diffusion-webui/embeddings/gal.ckpt\n",
        "##!cp /content/drive/MyDrive/Stable_Diffusion_Models/protogenX58RebuiltScifi_10.safetensors /content/stable-diffusion-webui/models/Stable-diffusion/gal.ckpt\n",
        "\n",
        "## galgadot-4000.pt\n",
        "#!cp /content/drive/MyDrive/Stable_Diffusion_Models/galgadot-4000.pt /content/stable-diffusion-webui/embeddings/galgadot-4000.pt\n",
        "\n",
        "## emb-daisy\n",
        "#!cp /content/drive/MyDrive/Stable_Diffusion_Models/emb-daisy.pt /content/stable-diffusion-webui/embeddings/emb-daisy.pt\n",
        "\n",
        "## Unshaved\n",
        "!cp /content/drive/MyDrive/Stable_Diffusion_Models/Style-Unshaved.pt /content/stable-diffusion-webui/embeddings/Style-Unshaved.pt\n",
        "\n",
        "\n",
        "## ulzzang-6500.pt\n",
        "!cp /content/drive/MyDrive/Stable_Diffusion_Models/ulzzang-6500.pt /content/stable-diffusion-webui/embeddings/ulzzang-6500.pt\n",
        "\n"
      ],
      "metadata": {
        "id": "0fHsdVj6ebFY"
      },
      "execution_count": null,
      "outputs": []
    },
    {
      "cell_type": "code",
      "source": [
        "#@title Copy VAE\n",
        "\n",
        "## Semi-realism vae-ft-mse-840000-ema-pruned.ckpt\n",
        "!cp /content/drive/MyDrive/Stable_Diffusion_Models/vae-ft-mse-840000-ema-pruned.ckpt /content/stable-diffusion-webui/models/VAE/vae-ft-mse-840000-ema-pruned.ckpt\n"
      ],
      "metadata": {
        "id": "l8Wr7QEnXO45"
      },
      "execution_count": 5,
      "outputs": []
    },
    {
      "cell_type": "code",
      "source": [
        "#@title ControlNet Models\n",
        "\n",
        "## UI Plugin URL\n",
        "# https://github.com/Mikubill/sd-webui-controlnet\n",
        "\n",
        "## Hugging Models\n",
        "# https://huggingface.co/lllyasviel/ControlNet/tree/main/models\n",
        "\n",
        "# Canny\n",
        "!cp /content/drive/MyDrive/Stable_Diffusion_ControlNet/control_sd15_canny.pth /content/stable-diffusion-webui/extensions/sd-webui-controlnet/models/control_sd15_canny.pth\n",
        "\n",
        "# \n",
        "!cp /content/drive/MyDrive/Stable_Diffusion_ControlNet/control_sd15_mlsd.pth /content/stable-diffusion-webui/extensions/sd-webui-controlnet/models/control_sd15_mlsd.pth\n",
        "\n"
      ],
      "metadata": {
        "id": "CUjRU2VzTvnx"
      },
      "execution_count": 8,
      "outputs": []
    },
    {
      "cell_type": "markdown",
      "source": [
        "##Launch UI"
      ],
      "metadata": {
        "id": "v1rbzWPicARy"
      }
    },
    {
      "cell_type": "code",
      "source": [
        "import uuid\n",
        "oneTimePassword = uuid.uuid4()\n",
        "\n",
        "print(\"============================================== HERE IS THE ONE TIME PASSWORD\")\n",
        "print(oneTimePassword) \n",
        "print('\\n\\n')"
      ],
      "metadata": {
        "id": "Mmc2yPqBRciQ",
        "outputId": "daaa0e54-edbb-4cc2-f9c8-86515b7722cb",
        "colab": {
          "base_uri": "https://localhost:8080/"
        }
      },
      "execution_count": 6,
      "outputs": [
        {
          "output_type": "stream",
          "name": "stdout",
          "text": [
            "============================================== HERE IS THE ONE TIME PASSWORD\n",
            "2d6bbc68-e25d-45d4-99e4-fe7cf975ac57\n",
            "\n",
            "\n",
            "\n"
          ]
        }
      ]
    },
    {
      "cell_type": "code",
      "execution_count": null,
      "metadata": {
        "id": "BMYiME1RoL3p",
        "outputId": "0b67a3fa-ab00-4d08-f28f-ed103ca07d9d",
        "colab": {
          "base_uri": "https://localhost:8080/"
        }
      },
      "outputs": [
        {
          "output_type": "stream",
          "name": "stdout",
          "text": [
            "/content/stable-diffusion-webui\n",
            "Looking in indexes: https://pypi.org/simple, https://us-python.pkg.dev/colab-wheels/public/simple/\n",
            "Requirement already satisfied: fastapi==0.90.1 in /usr/local/lib/python3.8/dist-packages (0.90.1)\n",
            "Requirement already satisfied: pydantic!=1.7,!=1.7.1,!=1.7.2,!=1.7.3,!=1.8,!=1.8.1,<2.0.0,>=1.6.2 in /usr/local/lib/python3.8/dist-packages (from fastapi==0.90.1) (1.10.5)\n",
            "Requirement already satisfied: starlette<0.24.0,>=0.22.0 in /usr/local/lib/python3.8/dist-packages (from fastapi==0.90.1) (0.23.1)\n",
            "Requirement already satisfied: typing-extensions>=4.2.0 in /usr/local/lib/python3.8/dist-packages (from pydantic!=1.7,!=1.7.1,!=1.7.2,!=1.7.3,!=1.8,!=1.8.1,<2.0.0,>=1.6.2->fastapi==0.90.1) (4.5.0)\n",
            "Requirement already satisfied: anyio<5,>=3.4.0 in /usr/local/lib/python3.8/dist-packages (from starlette<0.24.0,>=0.22.0->fastapi==0.90.1) (3.6.2)\n",
            "Requirement already satisfied: idna>=2.8 in /usr/local/lib/python3.8/dist-packages (from anyio<5,>=3.4.0->starlette<0.24.0,>=0.22.0->fastapi==0.90.1) (2.10)\n",
            "Requirement already satisfied: sniffio>=1.1 in /usr/local/lib/python3.8/dist-packages (from anyio<5,>=3.4.0->starlette<0.24.0,>=0.22.0->fastapi==0.90.1) (1.3.0)\n",
            "Looking in indexes: https://pypi.org/simple, https://us-python.pkg.dev/colab-wheels/public/simple/\n",
            "Requirement already satisfied: opencv-python in /usr/local/lib/python3.8/dist-packages (4.6.0.66)\n",
            "Requirement already satisfied: numpy>=1.17.3 in /usr/local/lib/python3.8/dist-packages (from opencv-python) (1.22.4)\n",
            "M\trequirements_versions.txt\n",
            "HEAD is now at 91c8d0dc Merge pull request #7231 from EllangoK/master\n",
            "Python 3.8.10 (default, Nov 14 2022, 12:59:47) \n",
            "[GCC 9.4.0]\n",
            "Commit hash: 91c8d0dcfc9a5d46aec47fd3eb34c633c104b5bb\n",
            "Installing xformers\n",
            "Installing requirements for Web UI\n",
            "\n",
            "Launching Web UI with arguments: --share --disable-safe-unpickle --no-half-vae --xformers --enable-insecure-extension-access --gradio-auth admin:2d6bbc68-e25d-45d4-99e4-fe7cf975ac57\n",
            "2023-02-25 07:04:05.452480: I tensorflow/core/platform/cpu_feature_guard.cc:193] This TensorFlow binary is optimized with oneAPI Deep Neural Network Library (oneDNN) to use the following CPU instructions in performance-critical operations:  AVX2 FMA\n",
            "To enable them in other operations, rebuild TensorFlow with the appropriate compiler flags.\n",
            "2023-02-25 07:04:08.566653: W tensorflow/compiler/xla/stream_executor/platform/default/dso_loader.cc:64] Could not load dynamic library 'libnvinfer.so.7'; dlerror: libnvinfer.so.7: cannot open shared object file: No such file or directory; LD_LIBRARY_PATH: /usr/local/lib/python3.8/dist-packages/cv2/../../lib64:/usr/lib64-nvidia\n",
            "2023-02-25 07:04:08.566847: W tensorflow/compiler/xla/stream_executor/platform/default/dso_loader.cc:64] Could not load dynamic library 'libnvinfer_plugin.so.7'; dlerror: libnvinfer_plugin.so.7: cannot open shared object file: No such file or directory; LD_LIBRARY_PATH: /usr/local/lib/python3.8/dist-packages/cv2/../../lib64:/usr/lib64-nvidia\n",
            "2023-02-25 07:04:08.566873: W tensorflow/compiler/tf2tensorrt/utils/py_utils.cc:38] TF-TRT Warning: Cannot dlopen some TensorRT libraries. If you would like to use Nvidia GPU with TensorRT, please make sure the missing libraries mentioned above are installed properly.\n",
            "Loading weights [44f90a0972] from /content/stable-diffusion-webui/models/Stable-diffusion/protogenX34Photorealism_1.safetensors\n",
            "Creating model from config: /content/stable-diffusion-webui/configs/v1-inference.yaml\n",
            "LatentDiffusion: Running in eps-prediction mode\n",
            "DiffusionWrapper has 859.52 M params.\n",
            "Applying xformers cross attention optimization.\n",
            "Textual inversion embeddings loaded(0): \n",
            "Model loaded in 33.3s (load weights from disk: 2.3s, create model: 1.1s, apply weights to model: 20.1s, apply half(): 1.4s, load VAE: 7.8s, move model to device: 0.7s).\n",
            "Running on local URL:  http://127.0.0.1:7860\n",
            "Running on public URL: https://3a3718c0-d659-4a11.gradio.live\n",
            "\n",
            "This share link expires in 72 hours. For free permanent hosting and GPU upgrades (NEW!), check out Spaces: https://huggingface.co/spaces\n",
            "WARNING:multipart.multipart:Consuming a byte in the end state\n",
            "WARNING:multipart.multipart:Consuming a byte in the end state\n",
            "Loading model: control_sd15_canny [fef5e48e]\n",
            "Loaded state_dict from [/content/stable-diffusion-webui/extensions/sd-webui-controlnet/models/control_sd15_canny.pth]\n",
            "ControlNet model control_sd15_canny [fef5e48e] loaded.\n",
            "Loading preprocessor: canny\n",
            "  0% 0/16 [00:00<?, ?it/s]\n",
            "  6% 1/16 [00:03<00:50,  3.35s/it]\n",
            " 12% 2/16 [00:03<00:21,  1.50s/it]\n",
            " 19% 3/16 [00:03<00:11,  1.09it/s]\n",
            " 25% 4/16 [00:04<00:07,  1.56it/s]\n",
            " 31% 5/16 [00:04<00:05,  2.03it/s]\n",
            " 38% 6/16 [00:04<00:03,  2.50it/s]\n",
            " 44% 7/16 [00:04<00:03,  2.93it/s]\n",
            " 50% 8/16 [00:04<00:02,  3.30it/s]\n",
            " 56% 9/16 [00:05<00:01,  3.60it/s]\n",
            " 62% 10/16 [00:05<00:01,  3.84it/s]\n",
            " 69% 11/16 [00:05<00:01,  4.04it/s]\n",
            " 75% 12/16 [00:05<00:00,  4.18it/s]\n",
            " 81% 13/16 [00:05<00:00,  4.28it/s]\n",
            " 88% 14/16 [00:06<00:00,  4.23it/s]\n",
            " 94% 15/16 [00:06<00:00,  4.04it/s]\n",
            "100% 16/16 [00:06<00:00,  2.36it/s]\n",
            "Total progress: 100% 16/16 [00:07<00:00,  2.05it/s]\n"
          ]
        }
      ],
      "source": [
        "%cd /content/stable-diffusion-webui\n",
        "\n",
        "!pip install --upgrade fastapi==0.90.1\n",
        "!pip install opencv-python\n",
        "\n",
        "## Original\n",
        "!git checkout 91c8d0d\n",
        "#!COMMANDLINE_ARGS=\"--share --disable-safe-unpickle --no-half-vae --xformers --reinstall-xformers --enable-insecure-extension-access\" REQS_FILE=\"requirements.txt\" python launch.py\n",
        "\n",
        "!sed -i '$a fastapi==0.90.0' requirements_versions.txt\n",
        "!COMMANDLINE_ARGS=\"--share --disable-safe-unpickle --no-half-vae --xformers --reinstall-xformers --enable-insecure-extension-access --gradio-auth admin:{oneTimePassword}\" REQS_FILE=\"requirements.txt\" python launch.py\n",
        "    "
      ]
    },
    {
      "cell_type": "code",
      "source": [
        "@#title Update Frontend\n",
        "\n",
        "## sd_model_checkpoint, sd_vae, sd_hypernetwork, CLIP_stop_at_last_layers, sd_hypernetwork_strength"
      ],
      "metadata": {
        "id": "JfyG7z6Vq0lu"
      },
      "execution_count": null,
      "outputs": []
    }
  ],
  "metadata": {
    "accelerator": "GPU",
    "colab": {
      "provenance": [],
      "include_colab_link": true
    },
    "gpuClass": "standard",
    "kernelspec": {
      "display_name": "Python 3",
      "name": "python3"
    },
    "language_info": {
      "name": "python"
    }
  },
  "nbformat": 4,
  "nbformat_minor": 0
}