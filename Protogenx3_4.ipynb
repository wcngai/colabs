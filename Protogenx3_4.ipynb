{
  "cells": [
    {
      "cell_type": "markdown",
      "metadata": {
        "id": "view-in-github",
        "colab_type": "text"
      },
      "source": [
        "<a href=\"https://colab.research.google.com/github/wcngai/colabs/blob/main/Protogenx3_4.ipynb\" target=\"_parent\"><img src=\"https://colab.research.google.com/assets/colab-badge.svg\" alt=\"Open In Colab\"/></a>"
      ]
    },
    {
      "cell_type": "markdown",
      "source": [
        "##Initialization"
      ],
      "metadata": {
        "id": "u4yGZ_NjO_kC"
      }
    },
    {
      "cell_type": "code",
      "execution_count": null,
      "metadata": {
        "id": "sBbcB4vwj_jm"
      },
      "outputs": [],
      "source": [
        "#@title Google Drive Mounting\n",
        "from google.colab import drive\n",
        "drive.mount('/content/drive')"
      ]
    },
    {
      "cell_type": "code",
      "execution_count": null,
      "metadata": {
        "id": "061FCq_5sOjp"
      },
      "outputs": [],
      "source": [
        "#@title Download Stable Diffusion\n",
        "!git clone https://github.com/AUTOMATIC1111/stable-diffusion-webui\n",
        "!git clone https://github.com/yfszzx/stable-diffusion-webui-images-browser /content/stable-diffusion-webui/extensions/stable-diffusion-webui-images-browser"
      ]
    },
    {
      "cell_type": "code",
      "execution_count": null,
      "metadata": {
        "id": "1u9iuwiXtI_J"
      },
      "outputs": [],
      "source": [
        "#@title Models - ChillOutMix\n",
        "\n",
        "## ChillOutMix (safetensors)\n",
        "#!cp /content/drive/MyDrive/Stable_Diffusion_Models/chilloutmix_.safetensors /content/stable-diffusion-webui/models/Stable-diffusion/chilloutmix_.safetensors\n",
        "\n",
        "## chilloutmix_Ni.safetensors (safetensors)\n",
        "!cp /content/drive/MyDrive/Stable_Diffusion_Models/chilloutmix_Ni.safetensors /content/stable-diffusion-webui/models/Stable-diffusion/chilloutmix_Ni.safetensors\n",
        "\n",
        "## chilloutmix_Ni.safetensors (safetensors)\n",
        "!cp /content/drive/MyDrive/Stable_Diffusion_Models/chilloutmix_NiPrunedFp32Fix.safetensors /content/stable-diffusion-webui/models/Stable-diffusion/chilloutmix_NiPrunedFp32Fix.safetensors\n"
      ]
    },
    {
      "cell_type": "code",
      "source": [
        "#@title Models - Additional \n",
        "\n",
        "## realisticVisionV20_v20.safetensors Mar 26, 2023\n",
        "!cp /content/drive/MyDrive/Stable_Diffusion_Models/realisticVisionV20_v20.safetensors /content/stable-diffusion-webui/models/Stable-diffusion/realisticVisionV20_v20.safetensors\n",
        "\n",
        "## Best ##################################################################\n",
        "\n",
        "## hassanblend1512And_hassanblend1512.safetensors (safetensors)\n",
        "#!cp /content/drive/MyDrive/Stable_Diffusion_Models/hassanblend1512And_hassanblend1512.safetensors /content/stable-diffusion-webui/models/Stable-diffusion/hassanblend1512And_hassanblend1512.safetensors\n",
        "#!cp /content/drive/MyDrive/Stable_Diffusion_Models/vae-ft-mse-840000-ema-pruned.ckpt /content/stable-diffusion-webui/models/VAE/vae-ft-mse-840000-ema-pruned.ckpt\n",
        "\n",
        "## ProtogenX34 Photorealism (safetensors)\n",
        "#!cp /content/drive/MyDrive/Stable_Diffusion_Models/protogenX34Photorealism_1.safetensors /content/stable-diffusion-webui/models/Stable-diffusion/protogenX34Photorealism_1.safetensors\n",
        "\n",
        "## elegance_244.safetensors (checkpoint)\n",
        "#!cp /content/drive/MyDrive/Stable_Diffusion_Models/elegance_244.safetensors /content/stable-diffusion-webui/models/Stable-diffusion/elegance_244.safetensors\n",
        "\n",
        "## Clarity (checkpoint)\n",
        "#!cp /content/drive/MyDrive/Stable_Diffusion_Models/clarity_14.ckpt /content/stable-diffusion-webui/models/Stable-diffusion/clarity_14.ckpt\n",
        "\n",
        "## Need Double Check #####################################################\n",
        "\n",
        "## Moderate\n",
        "## Protogen X53 Photorealism 10 (safetensors)\n",
        "#!cp /content/drive/MyDrive/Stable_Diffusion_Models/protogenX53Photorealism_10.safetensors /content/stable-diffusion-webui/models/Stable-diffusion/protogenX53Photorealism_10.safetensors\n",
        "\n",
        "## ChillOutMix (safetensors)\n",
        "#!cp /content/drive/MyDrive/Stable_Diffusion_Models/chilloutmix_.safetensors /content/stable-diffusion-webui/models/Stable-diffusion/chilloutmix_.safetensors\n",
        "\n",
        "## Grapelikedreamfruit (safetensors)\n",
        "#!cp /content/drive/MyDrive/Stable_Diffusion_Models/grapelikedreamfruit_clipFixedVersion.safetensors /content/stable-diffusion-webui/models/Stable-diffusion/grapelikedreamfruit_clipFixedVersion.safetensors\n",
        "\n",
        "## povSkinTexture_povSkinTextureDreamlike.safetensors (safetensors)\n",
        "#!cp /content/drive/MyDrive/Stable_Diffusion_Models/povSkinTexture_povSkinTextureDreamlike.safetensors /content/stable-diffusion-webui/models/Stable-diffusion/povSkinTexture_povSkinTextureDreamlike.safetensors\n",
        "\n",
        "## povSkinTexture_povSkinTextureDreamlike.safetensors (safetensors)\n",
        "#!cp /content/drive/MyDrive/Stable_Diffusion_Models/povSkinTexture_povSkinTextureDreamlike.safetensors /content/stable-diffusion-webui/models/Stable-diffusion/povSkinTexture_povSkinTextureDreamlike.safetensors\n",
        "\n",
        "## babes_11.ckpt (safetensors)\n",
        "#!cp /content/drive/MyDrive/Stable_Diffusion_Models/vae-ft-mse-840000-ema-pruned.vae.pt /content/stable-diffusion-webui/models/VAE/vae-ft-mse-840000-ema-pruned.vae.pt\n",
        "#!cp /content/drive/MyDrive/Stable_Diffusion_Models/vae-ft-mse-840000-ema-pruned.vae.pt /content/stable-diffusion-webui/models/Stable-diffusion/vae-ft-mse-840000-ema-pruned.vae.pt\n",
        "\n",
        "#!cp /content/drive/MyDrive/Stable_Diffusion_Models/babes_11.ckpt /content/stable-diffusion-webui/models/Stable-diffusion/babes_11.ckpt\n",
        "\n",
        "## protogenX58RebuiltScifi_10.safetensors (safetensors)\n",
        "#!cp /content/drive/MyDrive/Stable_Diffusion_Models/protogenX58RebuiltScifi_10.safetensors /content/stable-diffusion-webui/models/Stable-diffusion/protogenX58RebuiltScifi_10.safetensors\n",
        "\n",
        "## rinamix2_Fp16NoEma.safetensors (safetensors)\n",
        "#!cp /content/drive/MyDrive/Stable_Diffusion_Models/rinamix2_Fp16NoEma.safetensors /content/stable-diffusion-webui/models/Stable-diffusion/rinamix2_Fp16NoEma.safetensors\n",
        "\n",
        "## AloeVera's - SimpMaker Series (Pruned+Vae) Update\n",
        "#!cp /content/drive/MyDrive/Stable_Diffusion_Models/aloeverasSimpmakerSeries_simpmaker3k3Pruned.safetensors /content/stable-diffusion-webui/models/Stable-diffusion/aloeverasSimpmakerSeries_simpmaker3k3Pruned.safetensors\n",
        "\n",
        "## AloeVera's - SimpMaker Series (Pruned+Vae) Update\n",
        "#!cp /content/drive/MyDrive/Stable_Diffusion_Models/aloeverasSimpmakerSeries_simpmaker3k3Pruned.safetensors /content/stable-diffusion-webui/models/Stable-diffusion/aloeverasSimpmakerSeries_simpmaker3k3Pruned.safetensors\n",
        "\n",
        "## RealDOSMix (safetensors)\n",
        "#!cp /content/drive/MyDrive/Stable_Diffusion_Models/realdosmix_.safetensors /content/stable-diffusion-webui/models/Stable-diffusion/realdosmix_.safetensors\n",
        "\n",
        "## DreamShaper\n",
        "#!cp /content/drive/MyDrive/Stable_Diffusion_Models/dreamshaper_331BakedVae.safetensors /content/stable-diffusion-webui/models/Stable-diffusion/dreamshaper_331BakedVae.safetensors\n",
        "\n",
        "#cheeseDaddys_35.safetensors\n",
        "#!cp /content/drive/MyDrive/Stable_Diffusion_Models/cheeseDaddys_35.safetensors /content/stable-diffusion-webui/models/Stable-diffusion/cheeseDaddys_35.safetensors\n",
        "\n",
        "\n",
        "\n",
        "## Orginal Codes - to download Photogen Models\n",
        "# !curl -Lo protogenx3.4.ckpt https://huggingface.co/darkstorm2150/Protogen_x3.4_Official_Release/resolve/main/ProtoGen_X3.4.ckpt\n",
        "# !mv \"/content/protogenx3.4.ckpt\" \"/content/stable-diffusion-webui/models/Stable-diffusion\"\n"
      ],
      "metadata": {
        "id": "LZdcXSWbNmQn",
        "cellView": "form"
      },
      "execution_count": null,
      "outputs": []
    },
    {
      "cell_type": "code",
      "source": [
        "#@title Copy Embedding\n",
        "\n",
        "## gal.ckpt\n",
        "##!cp /content/drive/MyDrive/Stable_Diffusion_Models/gal.ckpt /content/stable-diffusion-webui/embeddings/gal.ckpt\n",
        "##!cp /content/drive/MyDrive/Stable_Diffusion_Models/protogenX58RebuiltScifi_10.safetensors /content/stable-diffusion-webui/models/Stable-diffusion/gal.ckpt\n",
        "\n",
        "## galgadot-4000.pt\n",
        "#!cp /content/drive/MyDrive/Stable_Diffusion_Models/galgadot-4000.pt /content/stable-diffusion-webui/embeddings/galgadot-4000.pt\n",
        "\n",
        "## emb-daisy\n",
        "#!cp /content/drive/MyDrive/Stable_Diffusion_Models/emb-daisy.pt /content/stable-diffusion-webui/embeddings/emb-daisy.pt\n",
        "\n",
        "## Unshaved\n",
        "#!cp /content/drive/MyDrive/Stable_Diffusion_Models/Style-Unshaved.pt /content/stable-diffusion-webui/embeddings/Style-Unshaved.pt\n",
        "\n",
        "## ulzzang-6500.pt\n",
        "!cp /content/drive/MyDrive/Stable_Diffusion_Models/ulzzang-6500.pt /content/stable-diffusion-webui/embeddings/ulzzang-6500.pt\n",
        "\n",
        "!cp /content/drive/MyDrive/Stable_Diffusion_Models/ulzzang-6500-v1.1.bin /content/stable-diffusion-webui/embeddings/ulzzang.bin\n"
      ],
      "metadata": {
        "id": "0fHsdVj6ebFY",
        "cellView": "form"
      },
      "execution_count": null,
      "outputs": []
    },
    {
      "cell_type": "code",
      "source": [
        "#@title Copy VAE\n",
        "\n",
        "## Semi-realism vae-ft-mse-840000-ema-pruned.ckpt\n",
        "!cp /content/drive/MyDrive/Stable_Diffusion_Models/vae-ft-mse-840000-ema-pruned.ckpt /content/stable-diffusion-webui/models/VAE/vae-ft-mse-840000-ema-pruned.ckpt\n"
      ],
      "metadata": {
        "id": "l8Wr7QEnXO45"
      },
      "execution_count": null,
      "outputs": []
    },
    {
      "cell_type": "code",
      "source": [
        "#@title Extension from Github\n",
        "%cd /content/stable-diffusion-webui/extensions\n",
        "\n",
        "## LLuL - Local Latent upscaLer\n",
        "## Reference: https://www.youtube.com/watch?v=SQ8NGVP6QQ8\n",
        "!git clone https://github.com/hnmr293/sd-webui-llul.git\n",
        "\n",
        "\n"
      ],
      "metadata": {
        "id": "hcfIkXE5lhyS"
      },
      "execution_count": null,
      "outputs": []
    },
    {
      "cell_type": "markdown",
      "source": [
        "##Launch UI"
      ],
      "metadata": {
        "id": "v1rbzWPicARy"
      }
    },
    {
      "cell_type": "code",
      "source": [
        "#@title Installing Packages\n",
        "\n",
        "%cd /content/stable-diffusion-webui\n",
        "\n",
        "!pip install --upgrade fastapi==0.90.1\n",
        "!pip install opencv-python\n",
        "\n",
        "!pip install torch==1.13.1+cu117 torchvision==0.14.1+cu117 torchtext==0.14.1 torchaudio==0.13.1 torchdata==0.5.1 --extra-index-url https://download.pytorch.org/whl/cu117\n",
        "\n",
        "!pip install --upgrade pip setuptools wheel\n",
        "!pip install manimlib \n",
        "!pip install manimce\n",
        "!pip install PyGObject\n",
        "\n",
        "!pip install pycairo\n",
        "!pip install svglib\n"
      ],
      "metadata": {
        "id": "fFoWm0aKpQbI"
      },
      "execution_count": null,
      "outputs": []
    },
    {
      "cell_type": "code",
      "source": [
        "#@title Generate Admin Credential\n",
        "import uuid\n",
        "oneTimePassword = uuid.uuid4()\n",
        "\n",
        "print(\"============================================== HERE IS THE ONE TIME PASSWORD\")\n",
        "print(oneTimePassword) \n",
        "print('\\n\\n')"
      ],
      "metadata": {
        "id": "Mmc2yPqBRciQ"
      },
      "execution_count": null,
      "outputs": []
    },
    {
      "cell_type": "code",
      "execution_count": null,
      "metadata": {
        "id": "BMYiME1RoL3p"
      },
      "outputs": [],
      "source": [
        "#@title Launch\n",
        "\n",
        "%cd /content/stable-diffusion-webui\n",
        "\n",
        "#!pip install --upgrade fastapi==0.90.1\n",
        "#!pip install opencv-python\n",
        "\n",
        "## Original\n",
        "# Stable version\n",
        "#!git checkout 91c8d0d\n",
        "\n",
        "!git checkout 5ab7f21\n",
        "\n",
        "#!COMMANDLINE_ARGS=\"--share --disable-safe-unpickle --no-half-vae --xformers --reinstall-xformers --enable-insecure-extension-access\" REQS_FILE=\"requirements.txt\" python launch.py\n",
        "\n",
        "!sed -i '$a fastapi==0.90.0' requirements_versions.txt\n",
        "!COMMANDLINE_ARGS=\"--share --disable-safe-unpickle --no-half-vae --xformers --reinstall-xformers --enable-insecure-extension-access --gradio-auth admin:{oneTimePassword}\" REQS_FILE=\"requirements.txt\" python launch.py\n",
        "    "
      ]
    },
    {
      "cell_type": "markdown",
      "source": [
        "##Post Launch"
      ],
      "metadata": {
        "id": "pfwiLCjwIW8m"
      }
    },
    {
      "cell_type": "code",
      "source": [
        "#@title P1. Update Frontend\n",
        "\n",
        "## SD Web UI -> Settings > User Interface > \n",
        "## sd_model_checkpoint, sd_vae, sd_hypernetwork, CLIP_stop_at_last_layers, sd_hypernetwork_strength"
      ],
      "metadata": {
        "id": "JfyG7z6Vq0lu"
      },
      "execution_count": null,
      "outputs": []
    },
    {
      "cell_type": "markdown",
      "source": [
        "P1. Update Frontend\n",
        "\n",
        "## SD Web UI -> Settings > User Interface > \n",
        "## sd_model_checkpoint, sd_vae, sd_hypernetwork, CLIP_stop_at_last_layers, sd_hypernetwork_strength"
      ],
      "metadata": {
        "id": "7CPBCjq6QJsr"
      }
    },
    {
      "cell_type": "code",
      "source": [
        "#@title P2. Install Plugin/Extension via UI\n",
        "\n",
        "## SD Web UI -> Extensions > Install from URL\n",
        "\n",
        "## ControlNet UI\n",
        "# \n",
        "# https://github.com/Mikubill/sd-webui-controlnet\n",
        "\n",
        "\n",
        "## Ultimate SD Upscale UI\n",
        "## Reference: https://www.youtube.com/watch?v=lMNRjYPGo_8\n",
        "# https://github.com/Coyote-A/ultimate-upscale-for-automatic1111.git\n",
        "\n",
        "\n",
        "## Loading lycoris model in sd-webui.\n",
        "# Needed by Miniature world style\n",
        "#https://github.com/KohakuBlueleaf/a1111-sd-webui-locon\n"
      ],
      "metadata": {
        "id": "78JcSReyZ4hx"
      },
      "execution_count": null,
      "outputs": []
    },
    {
      "cell_type": "code",
      "source": [
        "#@title P3. Lora Install Extension\n",
        "\n",
        "# WebUi > Extensions > Available > Load From > \n",
        "\n",
        "# Install:\n",
        "# Kohya-ss Additional Networks\n",
        "# Allows the Web UI to use LoRAs (1.X and 2.X) to generate images. Also allows editing .safetensors networks prompt metadata.\n",
        "\n",
        "# Post-install, stop UI and proceed to copy Lora Models\n"
      ],
      "metadata": {
        "id": "_VQDifjjILhP"
      },
      "execution_count": null,
      "outputs": []
    },
    {
      "cell_type": "code",
      "source": [
        "#@title P4. Copy Lora\n",
        "\n",
        "## 2 Ways of how Lora can be used\n",
        "# Reference: https://www.youtube.com/watch?v=HaXb3R2VHP8\n",
        "\n",
        "#Method 1:\n",
        "# 1. Complete steps in P3. Lora Install Extension\n",
        "# 2. Copy Lora Models to contents/stable-diffusion-webui/extensions/sd-webui-additional-networks/models/lora\n",
        "\n",
        "## Korean Doll Likeness (safetensors) Mar 29, 2023\n",
        "!cp /content/drive/MyDrive/Stable_Diffusion_LORA/koreanDollLikeness.safetensors /content/stable-diffusion-webui/extensions/sd-webui-additional-networks/models/lora/koreanDollLikeness.safetensors\n",
        "\n",
        "## Taiwan Doll Likeness (safetensors) Apr 23, 2023\n",
        "#!cp /content/drive/MyDrive/Stable_Diffusion_LORA/taiwanDollLikeness_v20.safetensors /content/stable-diffusion-webui/extensions/sd-webui-additional-networks/models/lora/taiwanDollLikeness_v20.safetensors\n",
        "\n",
        "## miniature_V1.safetensors Apr 23, 2023\n",
        "#!cp /content/drive/MyDrive/Stable_Diffusion_LORA/miniature_V1.safetensors /content/stable-diffusion-webui/extensions/sd-webui-additional-networks/models/lora/miniature_V1.safetensors\n",
        "\n",
        "## 假装拆东西2D fake disassemble 2D Apr 15, 2023\n",
        "!cp /content/drive/MyDrive/Stable_Diffusion_LORA/dis_V1-000020.safetensors /content/stable-diffusion-webui/extensions/sd-webui-additional-networks/models/lora/dis_V1-000020.safetensors\n",
        "\n",
        "## pokies_9.safetensors Mar 31, 2023\n",
        "!cp /content/drive/MyDrive/Stable_Diffusion_LORA/pokies_9.safetensors /content/stable-diffusion-webui/extensions/sd-webui-additional-networks/models/lora/pokies_9.safetensors\n",
        "\n",
        "\n",
        "\n",
        "\n",
        "\n",
        "\n",
        "## 假装拆东西2D fake disassemble 2D Apr 15, 2023\n",
        "#################################################\n",
        "#################################################\n",
        "#################################################\n",
        "\n",
        "#Method 2: (Not using at the moment, need to check how to use)\n",
        "#!mkdir /content/stable-diffusion-webui/models/Lora\n",
        "\n",
        "## Korean Doll Likeness (safetensors)\n",
        "#!cp /content/drive/MyDrive/Stable_Diffusion_Models/koreanDollLikeness_v10.safetensors /content/stable-diffusion-webui/extensions/sd-webui-additional-networks/models/lora/koreanDollLikeness_v10.safetensors\n",
        "\n",
        "## Taiwan Doll Likeness (safetensors)\n",
        "#!cp /content/drive/MyDrive/Stable_Diffusion_Models/taiwanDollLikeness_v10.safetensors /content/stable-diffusion-webui/extensions/sd-webui-additional-networks/models/lora/taiwanDollLikeness_v10.safetensors\n",
        "\n",
        "\n",
        "## realdosmix_LoRA300 (safetensors)\n",
        "##!cp /content/drive/MyDrive/Stable_Diffusion_Models/realdosmixLora300_realdosmixLora300.safetensors /content/stable-diffusion-webui/models/Lora/realdosmixLora300_realdosmixLora300.safetensors\n",
        "\n",
        "## dpep2 768.pt (safetensors)\n",
        "##!cp /content/drive/MyDrive/Stable_Diffusion_Models/dpep2_768.pt /content/stable-diffusion-webui/models/Lora/dpep2_768.pt\n",
        "\n",
        "## xiTheKing_v1.safetensors\n",
        "#!cp /content/drive/MyDrive/Stable_Diffusion_LORA/xiTheKing_v1.safetensors /content/stable-diffusion-webui/extensions/sd-webui-additional-networks/models/lora/xiTheKing_v1.safetensors\n",
        "#!cp /content/drive/MyDrive/Stable_Diffusion_LORA/xiTheKing_v1.safetensors /content/stable-diffusion-webui/models/Lora/xiTheKing_v1.safetensors\n",
        "\n",
        "## Xiaorenshu_v10.safetensors\n",
        "#!cp /content/drive/MyDrive/Stable_Diffusion_LORA/Xiaorenshu_v10.safetensors /content/stable-diffusion-webui/extensions/sd-webui-additional-networks/models/lora/Xiaorenshu_v10.safetensors\n",
        "\n",
        "## Moxin_10.safetensors\n",
        "#!cp /content/drive/MyDrive/Stable_Diffusion_LORA/Moxin_10.safetensors /content/stable-diffusion-webui/extensions/sd-webui-additional-networks/models/lora/Moxin_10.safetensors\n",
        "\n",
        "## Moxin_Shukezouma11.safetensors\n",
        "#!cp /content/drive/MyDrive/Stable_Diffusion_LORA/Moxin_Shukezouma11.safetensors /content/stable-diffusion-webui/extensions/sd-webui-additional-networks/models/lora/Moxin_Shukezouma11.safetensors\n",
        "\n",
        "## cuteGirlMix4_v10.safetensors\n",
        "#!cp /content/drive/MyDrive/Stable_Diffusion_LORA/cuteGirlMix4_v10.safetensors /content/stable-diffusion-webui/extensions/sd-webui-additional-networks/models/lora/cuteGirlMix4_v10.safetensors\n",
        "\n",
        "## susuTTSiennasueLocon_siennasue.safetensors\n",
        "#!cp /content/drive/MyDrive/Stable_Diffusion_LORA/susuTTSiennasueLocon_siennasue.safetensors /content/stable-diffusion-webui/extensions/sd-webui-additional-networks/models/lora/susuTTSiennasueLocon_siennasue.safetensors\n",
        "\n",
        "## mikuya_v15.safetensors\n",
        "#!cp /content/drive/MyDrive/Stable_Diffusion_LORA/mikuya_v15.safetensors /content/stable-diffusion-webui/extensions/sd-webui-additional-networks/models/lora/mikuya_v15.safetensors\n",
        "\n",
        "## russianDollLikeness_v3.safetensors\n",
        "#!cp /content/drive/MyDrive/Stable_Diffusion_LORA/russianDollLikeness_v3.safetensors /content/stable-diffusion-webui/extensions/sd-webui-additional-networks/models/lora/russianDollLikeness_v3.safetensors\n",
        "\n",
        "## RussianDollV3.safetensors Feb 26, 2023\n",
        "#!cp /content/drive/MyDrive/Stable_Diffusion_LORA/RussianDollV3.safetensors /content/stable-diffusion-webui/models/Lora/RussianDollV3.safetensors\n",
        "\n",
        "## RX78_V1.safetensors - Gundam\n",
        "#!cp /content/drive/MyDrive/Stable_Diffusion_LORA/RX78_V1.safetensors /content/stable-diffusion-webui/models/Lora/RX78_V1.safetensors\n",
        "\n"
      ],
      "metadata": {
        "id": "Afkc0N5rXcQg"
      },
      "execution_count": null,
      "outputs": []
    },
    {
      "cell_type": "code",
      "source": [
        "#@title P5. ControlNet Models\n",
        "\n",
        "## UI Plugin URL\n",
        "# https://github.com/Mikubill/sd-webui-controlnet\n",
        "\n",
        "## Hugging Models\n",
        "# https://huggingface.co/lllyasviel/ControlNet/tree/main/models\n",
        "\n",
        "# Canny\n",
        "#!cp /content/drive/MyDrive/Stable_Diffusion_ControlNet/control_sd15_canny.pth /content/stable-diffusion-webui/extensions/sd-webui-controlnet/models/control_sd15_canny.pth\n",
        "\n",
        "# MSLD - Good for building, rooms, construct with straight lines\n",
        "#!cp /content/drive/MyDrive/Stable_Diffusion_ControlNet/control_sd15_mlsd.pth /content/stable-diffusion-webui/extensions/sd-webui-controlnet/models/control_sd15_mlsd.pth\n",
        "\n",
        "# Depth\n",
        "#!cp /content/drive/MyDrive/Stable_Diffusion_ControlNet/control_sd15_depth.pth /content/stable-diffusion-webui/extensions/sd-webui-controlnet/models/control_sd15_depth.pth\n",
        "\n",
        "# Open Pose\n",
        "!cp /content/drive/MyDrive/Stable_Diffusion_ControlNet/control_sd15_openpose.pth /content/stable-diffusion-webui/extensions/sd-webui-controlnet/models/control_sd15_openpose.pth\n",
        "\n",
        "\n",
        "# Scribble\n",
        "#!cp /content/drive/MyDrive/Stable_Diffusion_ControlNet/control_sd15_scribble.pth /content/stable-diffusion-webui/extensions/sd-webui-controlnet/models/control_sd15_scribble.pth\n",
        "\n",
        "\n"
      ],
      "metadata": {
        "id": "CUjRU2VzTvnx"
      },
      "execution_count": null,
      "outputs": []
    }
  ],
  "metadata": {
    "accelerator": "GPU",
    "colab": {
      "provenance": [],
      "machine_shape": "hm",
      "include_colab_link": true
    },
    "gpuClass": "premium",
    "kernelspec": {
      "display_name": "Python 3",
      "name": "python3"
    },
    "language_info": {
      "name": "python"
    }
  },
  "nbformat": 4,
  "nbformat_minor": 0
}