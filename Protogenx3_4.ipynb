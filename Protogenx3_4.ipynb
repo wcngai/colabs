{
  "cells": [
    {
      "cell_type": "markdown",
      "metadata": {
        "id": "view-in-github",
        "colab_type": "text"
      },
      "source": [
        "<a href=\"https://colab.research.google.com/github/wcngai/colabs/blob/main/Protogenx3_4.ipynb\" target=\"_parent\"><img src=\"https://colab.research.google.com/assets/colab-badge.svg\" alt=\"Open In Colab\"/></a>"
      ]
    },
    {
      "cell_type": "code",
      "execution_count": null,
      "metadata": {
        "id": "sBbcB4vwj_jm"
      },
      "outputs": [],
      "source": [
        "#@title Google Drive Mounting\n",
        "from google.colab import drive\n",
        "drive.mount('/content/drive')"
      ]
    },
    {
      "cell_type": "code",
      "execution_count": null,
      "metadata": {
        "id": "061FCq_5sOjp"
      },
      "outputs": [],
      "source": [
        "#@title Download Stable Diffusion\n",
        "!git clone https://github.com/AUTOMATIC1111/stable-diffusion-webui\n",
        "!git clone https://github.com/yfszzx/stable-diffusion-webui-images-browser /content/stable-diffusion-webui/extensions/stable-diffusion-webui-images-browser"
      ]
    },
    {
      "cell_type": "code",
      "execution_count": null,
      "metadata": {
        "id": "1u9iuwiXtI_J"
      },
      "outputs": [],
      "source": [
        "#@title Copy Models\n",
        "\n",
        "## Best ##################################################################\n",
        "\n",
        "## hassanblend1512And_hassanblend1512.safetensors (safetensors)\n",
        "#!cp /content/drive/MyDrive/Stable_Diffusion_Models/hassanblend1512And_hassanblend1512.safetensors /content/stable-diffusion-webui/models/Stable-diffusion/hassanblend1512And_hassanblend1512.safetensors\n",
        "#!cp /content/drive/MyDrive/Stable_Diffusion_Models/vae-ft-mse-840000-ema-pruned.ckpt /content/stable-diffusion-webui/models/VAE/vae-ft-mse-840000-ema-pruned.ckpt\n",
        "\n",
        "## ProtogenX34 Photorealism (safetensors)\n",
        "#!cp /content/drive/MyDrive/Stable_Diffusion_Models/protogenX34Photorealism_1.safetensors /content/stable-diffusion-webui/models/Stable-diffusion/protogenX34Photorealism_1.safetensors\n",
        "\n",
        "## elegance_244.safetensors (checkpoint)\n",
        "#!cp /content/drive/MyDrive/Stable_Diffusion_Models/elegance_244.safetensors /content/stable-diffusion-webui/models/Stable-diffusion/elegance_244.safetensors\n",
        "\n",
        "## Clarity (checkpoint)\n",
        "#!cp /content/drive/MyDrive/Stable_Diffusion_Models/clarity_14.ckpt /content/stable-diffusion-webui/models/Stable-diffusion/clarity_14.ckpt\n",
        "\n",
        "## Need Double Check #####################################################\n",
        "\n",
        "## Moderate\n",
        "## Protogen X53 Photorealism 10 (safetensors)\n",
        "#!cp /content/drive/MyDrive/Stable_Diffusion_Models/protogenX53Photorealism_10.safetensors /content/stable-diffusion-webui/models/Stable-diffusion/protogenX53Photorealism_10.safetensors\n",
        "\n",
        "## ChillOutMix (safetensors)\n",
        "#!cp /content/drive/MyDrive/Stable_Diffusion_Models/chilloutmix_.safetensors /content/stable-diffusion-webui/models/Stable-diffusion/chilloutmix_.safetensors\n",
        "\n",
        "## chilloutmix_NiPrunedFp32Fix.safetensors (safetensors)\n",
        "#!cp /content/drive/MyDrive/Stable_Diffusion_Models/chilloutmix_NiPrunedFp32Fix.safetensors /content/stable-diffusion-webui/models/Stable-diffusion/chilloutmix_NiPrunedFp32Fix.safetensors\n",
        "\n",
        "\n",
        "## chilloutmix_Ni.safetensors (safetensors)\n",
        "#!cp /content/drive/MyDrive/Stable_Diffusion_Models/chilloutmix_Ni.safetensors /content/stable-diffusion-webui/models/Stable-diffusion/chilloutmix_Ni.safetensors\n",
        "\n",
        "## chilloutmix_Ni.safetensors (safetensors)\n",
        "!cp /content/drive/MyDrive/Stable_Diffusion_Models/chilloutmix_NiPrunedFp32Fix.safetensors /content/stable-diffusion-webui/models/Stable-diffusion/chilloutmix_NiPrunedFp32Fix.safetensors\n",
        "\n",
        "\n",
        "\n",
        "## Grapelikedreamfruit (safetensors)\n",
        "#!cp /content/drive/MyDrive/Stable_Diffusion_Models/grapelikedreamfruit_clipFixedVersion.safetensors /content/stable-diffusion-webui/models/Stable-diffusion/grapelikedreamfruit_clipFixedVersion.safetensors\n",
        "\n",
        "## povSkinTexture_povSkinTextureDreamlike.safetensors (safetensors)\n",
        "#!cp /content/drive/MyDrive/Stable_Diffusion_Models/povSkinTexture_povSkinTextureDreamlike.safetensors /content/stable-diffusion-webui/models/Stable-diffusion/povSkinTexture_povSkinTextureDreamlike.safetensors\n",
        "\n",
        "## povSkinTexture_povSkinTextureDreamlike.safetensors (safetensors)\n",
        "#!cp /content/drive/MyDrive/Stable_Diffusion_Models/povSkinTexture_povSkinTextureDreamlike.safetensors /content/stable-diffusion-webui/models/Stable-diffusion/povSkinTexture_povSkinTextureDreamlike.safetensors\n",
        "\n",
        "## babes_11.ckpt (safetensors)\n",
        "#!cp /content/drive/MyDrive/Stable_Diffusion_Models/vae-ft-mse-840000-ema-pruned.vae.pt /content/stable-diffusion-webui/models/VAE/vae-ft-mse-840000-ema-pruned.vae.pt\n",
        "#!cp /content/drive/MyDrive/Stable_Diffusion_Models/vae-ft-mse-840000-ema-pruned.vae.pt /content/stable-diffusion-webui/models/Stable-diffusion/vae-ft-mse-840000-ema-pruned.vae.pt\n",
        "\n",
        "#!cp /content/drive/MyDrive/Stable_Diffusion_Models/babes_11.ckpt /content/stable-diffusion-webui/models/Stable-diffusion/babes_11.ckpt\n",
        "\n",
        "## protogenX58RebuiltScifi_10.safetensors (safetensors)\n",
        "#!cp /content/drive/MyDrive/Stable_Diffusion_Models/protogenX58RebuiltScifi_10.safetensors /content/stable-diffusion-webui/models/Stable-diffusion/protogenX58RebuiltScifi_10.safetensors\n",
        "\n",
        "## rinamix2_Fp16NoEma.safetensors (safetensors)\n",
        "#!cp /content/drive/MyDrive/Stable_Diffusion_Models/rinamix2_Fp16NoEma.safetensors /content/stable-diffusion-webui/models/Stable-diffusion/rinamix2_Fp16NoEma.safetensors\n",
        "\n",
        "## AloeVera's - SimpMaker Series (Pruned+Vae) Update\n",
        "#!cp /content/drive/MyDrive/Stable_Diffusion_Models/aloeverasSimpmakerSeries_simpmaker3k3Pruned.safetensors /content/stable-diffusion-webui/models/Stable-diffusion/aloeverasSimpmakerSeries_simpmaker3k3Pruned.safetensors\n",
        "\n",
        "## AloeVera's - SimpMaker Series (Pruned+Vae) Update\n",
        "#!cp /content/drive/MyDrive/Stable_Diffusion_Models/aloeverasSimpmakerSeries_simpmaker3k3Pruned.safetensors /content/stable-diffusion-webui/models/Stable-diffusion/aloeverasSimpmakerSeries_simpmaker3k3Pruned.safetensors\n",
        "\n",
        "\n",
        "\n",
        "## RealDOSMix (safetensors)\n",
        "#!cp /content/drive/MyDrive/Stable_Diffusion_Models/realdosmix_.safetensors /content/stable-diffusion-webui/models/Stable-diffusion/realdosmix_.safetensors\n",
        "\n",
        "\n",
        "## DreamShaper\n",
        "#!cp /content/drive/MyDrive/Stable_Diffusion_Models/dreamshaper_331BakedVae.safetensors /content/stable-diffusion-webui/models/Stable-diffusion/dreamshaper_331BakedVae.safetensors\n",
        "\n",
        "\n",
        "\n",
        "#cheeseDaddys_35.safetensors\n",
        "#!cp /content/drive/MyDrive/Stable_Diffusion_Models/cheeseDaddys_35.safetensors /content/stable-diffusion-webui/models/Stable-diffusion/cheeseDaddys_35.safetensors\n",
        "\n",
        "\n",
        "\n",
        "## Orginal Codes - to download Photogen Models\n",
        "# !curl -Lo protogenx3.4.ckpt https://huggingface.co/darkstorm2150/Protogen_x3.4_Official_Release/resolve/main/ProtoGen_X3.4.ckpt\n",
        "# !mv \"/content/protogenx3.4.ckpt\" \"/content/stable-diffusion-webui/models/Stable-diffusion\""
      ]
    },
    {
      "cell_type": "code",
      "source": [
        "#@title Copy Lora\n",
        "##!mkdir /content/stable-diffusion-webui/models/Lora\n",
        "\n",
        "## Korean Doll Likeness (safetensors)\n",
        "#!cp /content/drive/MyDrive/Stable_Diffusion_Models/koreanDollLikeness_v10.safetensors /content/stable-diffusion-webui/extensions/sd-webui-additional-networks/models/lora/koreanDollLikeness_v10.safetensors\n",
        "\n",
        "## Taiwan Doll Likeness (safetensors)\n",
        "#!cp /content/drive/MyDrive/Stable_Diffusion_Models/taiwanDollLikeness_v10.safetensors /content/stable-diffusion-webui/extensions/sd-webui-additional-networks/models/lora/taiwanDollLikeness_v10.safetensors\n",
        "\n",
        "## realdosmix_LoRA300 (safetensors)\n",
        "##!cp /content/drive/MyDrive/Stable_Diffusion_Models/realdosmixLora300_realdosmixLora300.safetensors /content/stable-diffusion-webui/models/Lora/realdosmixLora300_realdosmixLora300.safetensors\n",
        "\n",
        "## dpep2 768.pt (safetensors)\n",
        "##!cp /content/drive/MyDrive/Stable_Diffusion_Models/dpep2_768.pt /content/stable-diffusion-webui/models/Lora/dpep2_768.pt\n",
        "\n",
        "## xiTheKing_v1.safetensors\n",
        "#!cp /content/drive/MyDrive/Stable_Diffusion_LORA/xiTheKing_v1.safetensors /content/stable-diffusion-webui/extensions/sd-webui-additional-networks/models/lora/xiTheKing_v1.safetensors\n",
        "\n",
        "## Xiaorenshu_v10.safetensors\n",
        "#!cp /content/drive/MyDrive/Stable_Diffusion_LORA/Xiaorenshu_v10.safetensors /content/stable-diffusion-webui/extensions/sd-webui-additional-networks/models/lora/Xiaorenshu_v10.safetensors\n",
        "\n",
        "## Moxin_10.safetensors\n",
        "#!cp /content/drive/MyDrive/Stable_Diffusion_LORA/Moxin_10.safetensors /content/stable-diffusion-webui/extensions/sd-webui-additional-networks/models/lora/Moxin_10.safetensors\n",
        "\n",
        "## Moxin_Shukezouma11.safetensors\n",
        "#!cp /content/drive/MyDrive/Stable_Diffusion_LORA/Moxin_Shukezouma11.safetensors /content/stable-diffusion-webui/extensions/sd-webui-additional-networks/models/lora/Moxin_Shukezouma11.safetensors\n",
        "\n",
        "## russianDollLikeness_v3.safetensors\n",
        "#!cp /content/drive/MyDrive/Stable_Diffusion_LORA/russianDollLikeness_v3.safetensors /content/stable-diffusion-webui/extensions/sd-webui-additional-networks/models/lora/russianDollLikeness_v3.safetensors\n",
        "\n",
        "## cuteGirlMix4_v10.safetensors\n",
        "#!cp /content/drive/MyDrive/Stable_Diffusion_LORA/cuteGirlMix4_v10.safetensors /content/stable-diffusion-webui/extensions/sd-webui-additional-networks/models/lora/cuteGirlMix4_v10.safetensors\n",
        "\n",
        "## susuTTSiennasueLocon_siennasue.safetensors\n",
        "#!cp /content/drive/MyDrive/Stable_Diffusion_LORA/susuTTSiennasueLocon_siennasue.safetensors /content/stable-diffusion-webui/extensions/sd-webui-additional-networks/models/lora/susuTTSiennasueLocon_siennasue.safetensors\n",
        "\n",
        "\n",
        "\n",
        "## mikuya_v15.safetensors\n",
        "!cp /content/drive/MyDrive/Stable_Diffusion_LORA/mikuya_v15.safetensors /content/stable-diffusion-webui/extensions/sd-webui-additional-networks/models/lora/mikuya_v15.safetensors\n",
        "\n"
      ],
      "metadata": {
        "id": "Afkc0N5rXcQg"
      },
      "execution_count": null,
      "outputs": []
    },
    {
      "cell_type": "code",
      "source": [
        "#@title Copy Embedding\n",
        "\n",
        "## gal.ckpt\n",
        "##!cp /content/drive/MyDrive/Stable_Diffusion_Models/gal.ckpt /content/stable-diffusion-webui/embeddings/gal.ckpt\n",
        "##!cp /content/drive/MyDrive/Stable_Diffusion_Models/protogenX58RebuiltScifi_10.safetensors /content/stable-diffusion-webui/models/Stable-diffusion/gal.ckpt\n",
        "\n",
        "## galgadot-4000.pt\n",
        "#!cp /content/drive/MyDrive/Stable_Diffusion_Models/galgadot-4000.pt /content/stable-diffusion-webui/embeddings/galgadot-4000.pt\n",
        "\n",
        "## emb-daisy\n",
        "#!cp /content/drive/MyDrive/Stable_Diffusion_Models/emb-daisy.pt /content/stable-diffusion-webui/embeddings/emb-daisy.pt\n",
        "\n",
        "## Unshaved\n",
        "#!cp /content/drive/MyDrive/Stable_Diffusion_Models/Style-Unshaved.pt /content/stable-diffusion-webui/embeddings/Style-Unshaved.pt\n",
        "\n",
        "\n",
        "## ulzzang-6500.pt\n",
        "#!cp /content/drive/MyDrive/Stable_Diffusion_Models/ulzzang-6500.pt /content/stable-diffusion-webui/embeddings/ulzzang-6500.pt\n",
        "\n",
        "\n",
        "!cp /content/drive/MyDrive/Stable_Diffusion_Models/ulzzang-6500-v1.1.bin /content/stable-diffusion-webui/embeddings/ulzzang.bin\n"
      ],
      "metadata": {
        "id": "0fHsdVj6ebFY"
      },
      "execution_count": null,
      "outputs": []
    },
    {
      "cell_type": "code",
      "source": [
        "#@title Copy VAE\n",
        "\n",
        "## Semi-realism vae-ft-mse-840000-ema-pruned.ckpt\n",
        "!cp /content/drive/MyDrive/Stable_Diffusion_Models/vae-ft-mse-840000-ema-pruned.ckpt /content/stable-diffusion-webui/models/VAE/vae-ft-mse-840000-ema-pruned.ckpt\n"
      ],
      "metadata": {
        "id": "l8Wr7QEnXO45"
      },
      "execution_count": null,
      "outputs": []
    },
    {
      "cell_type": "code",
      "source": [
        "#@title ControlNet Models\n",
        "\n",
        "## UI Plugin URL\n",
        "# https://github.com/Mikubill/sd-webui-controlnet\n",
        "\n",
        "## Hugging Models\n",
        "# https://huggingface.co/lllyasviel/ControlNet/tree/main/models\n",
        "\n",
        "# Canny\n",
        "#!cp /content/drive/MyDrive/Stable_Diffusion_ControlNet/control_sd15_canny.pth /content/stable-diffusion-webui/extensions/sd-webui-controlnet/models/control_sd15_canny.pth\n",
        "\n",
        "# MSLD - Good for building, rooms, construct with straight lines\n",
        "#!cp /content/drive/MyDrive/Stable_Diffusion_ControlNet/control_sd15_mlsd.pth /content/stable-diffusion-webui/extensions/sd-webui-controlnet/models/control_sd15_mlsd.pth\n",
        "\n",
        "# Depth\n",
        "#!cp /content/drive/MyDrive/Stable_Diffusion_ControlNet/control_sd15_depth.pth /content/stable-diffusion-webui/extensions/sd-webui-controlnet/models/control_sd15_depth.pth\n",
        "\n",
        "# Open Pose\n",
        "!cp /content/drive/MyDrive/Stable_Diffusion_ControlNet/control_sd15_openpose.pth /content/stable-diffusion-webui/extensions/sd-webui-controlnet/models/control_sd15_openpose.pth\n",
        "\n",
        "\n",
        "# Scribble\n",
        "#!cp /content/drive/MyDrive/Stable_Diffusion_ControlNet/control_sd15_scribble.pth /content/stable-diffusion-webui/extensions/sd-webui-controlnet/models/control_sd15_scribble.pth\n",
        "\n",
        "\n"
      ],
      "metadata": {
        "id": "CUjRU2VzTvnx"
      },
      "execution_count": null,
      "outputs": []
    },
    {
      "cell_type": "markdown",
      "source": [
        "##Launch UI"
      ],
      "metadata": {
        "id": "v1rbzWPicARy"
      }
    },
    {
      "cell_type": "code",
      "source": [
        "import uuid\n",
        "oneTimePassword = uuid.uuid4()\n",
        "\n",
        "print(\"============================================== HERE IS THE ONE TIME PASSWORD\")\n",
        "print(oneTimePassword) \n",
        "print('\\n\\n')"
      ],
      "metadata": {
        "id": "Mmc2yPqBRciQ"
      },
      "execution_count": null,
      "outputs": []
    },
    {
      "cell_type": "code",
      "source": [
        "#@title Installing Packages\n",
        "\n",
        "%cd /content/stable-diffusion-webui\n",
        "\n",
        "!pip install --upgrade fastapi==0.90.1\n",
        "!pip install opencv-python"
      ],
      "metadata": {
        "id": "fFoWm0aKpQbI"
      },
      "execution_count": null,
      "outputs": []
    },
    {
      "cell_type": "code",
      "execution_count": null,
      "metadata": {
        "id": "BMYiME1RoL3p"
      },
      "outputs": [],
      "source": [
        "%cd /content/stable-diffusion-webui\n",
        "\n",
        "#!pip install --upgrade fastapi==0.90.1\n",
        "#!pip install opencv-python\n",
        "\n",
        "## Original\n",
        "!git checkout 91c8d0d\n",
        "#!COMMANDLINE_ARGS=\"--share --disable-safe-unpickle --no-half-vae --xformers --reinstall-xformers --enable-insecure-extension-access\" REQS_FILE=\"requirements.txt\" python launch.py\n",
        "\n",
        "!sed -i '$a fastapi==0.90.0' requirements_versions.txt\n",
        "!COMMANDLINE_ARGS=\"--share --disable-safe-unpickle --no-half-vae --xformers --reinstall-xformers --enable-insecure-extension-access --gradio-auth admin:{oneTimePassword}\" REQS_FILE=\"requirements.txt\" python launch.py\n",
        "    "
      ]
    },
    {
      "cell_type": "code",
      "source": [
        "@#title Update Frontend\n",
        "\n",
        "## sd_model_checkpoint, sd_vae, sd_hypernetwork, CLIP_stop_at_last_layers, sd_hypernetwork_strength"
      ],
      "metadata": {
        "id": "JfyG7z6Vq0lu"
      },
      "execution_count": null,
      "outputs": []
    }
  ],
  "metadata": {
    "accelerator": "GPU",
    "colab": {
      "provenance": [],
      "machine_shape": "hm",
      "include_colab_link": true
    },
    "gpuClass": "premium",
    "kernelspec": {
      "display_name": "Python 3",
      "name": "python3"
    },
    "language_info": {
      "name": "python"
    }
  },
  "nbformat": 4,
  "nbformat_minor": 0
}