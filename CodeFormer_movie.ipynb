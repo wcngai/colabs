{
  "cells": [
    {
      "cell_type": "markdown",
      "metadata": {
        "id": "view-in-github",
        "colab_type": "text"
      },
      "source": [
        "<a href=\"https://colab.research.google.com/github/wcngai/colabs/blob/main/CodeFormer_movie.ipynb\" target=\"_parent\"><img src=\"https://colab.research.google.com/assets/colab-badge.svg\" alt=\"Open In Colab\"/></a>"
      ]
    },
    {
      "cell_type": "code",
      "execution_count": null,
      "metadata": {
        "id": "8SG9AcLQO_FQ"
      },
      "outputs": [],
      "source": [
        "#@title **セットアップ**\n",
        "\n",
        "# Clone CodeFormer and enter the CodeFormer folder\n",
        "%cd /content\n",
        "!rm -rf CodeFormer\n",
        "!git clone https://github.com/cedro3/CodeFormer.git\n",
        "%cd CodeFormer\n",
        "\n",
        "# Set up the environment\n",
        "# Install python dependencies\n",
        "!pip install -r requirements.txt\n",
        "# Install basicsr\n",
        "!python basicsr/setup.py develop\n",
        "\n",
        "# Download the pre-trained model\n",
        "!python scripts/download_pretrained_models.py facelib\n",
        "!python scripts/download_pretrained_models.py CodeFormer\n",
        "\n",
        "# Define function\n",
        "from function import *\n",
        "\n",
        "# make dir\n",
        "! mkdir download"
      ]
    },
    {
      "cell_type": "code",
      "source": [
        "#@title **動画の読み込み**\n",
        "\n",
        "#@markdown ■movie フォルダに音声付き動画（mp4）をアップロードして下さい\\\n",
        "#@markdown ■60秒以内（30fpsの場合）として下さい\n",
        "\n",
        "# 設定\n",
        "video = 'henmi.mp4' #@param {type:\"string\"}\n",
        "video_file = 'movie/'+video\n",
        "image_dir='inputs/frame/'\n",
        "image_file='%s.png'\n",
        "\n",
        "# video_2_images\n",
        "reset_folder('inputs/frame')\n",
        "fps, i, interval = video_2_images(video_file, image_dir, image_file)\n",
        "\n",
        "# スタートフレーム表示\n",
        "from google.colab.patches import cv2_imshow\n",
        "img = cv2.imread('inputs/frame/000000.png')\n",
        "cv2_imshow(img)\n",
        "\n",
        "# パラメータ表示\n",
        "print('fps = ', fps)\n",
        "print('frames = ', i)\n",
        "print('interval = ', interval)"
      ],
      "metadata": {
        "id": "E0A251PoNtWo"
      },
      "execution_count": null,
      "outputs": []
    },
    {
      "cell_type": "code",
      "source": [
        "from types import FrameType\n",
        "#@title **高画質化**\n",
        "#@markdown　■処理時間は1秒(30fps）の動画で１分程度かかります\n",
        "\n",
        "# 設定\n",
        "input_folder = 'inputs/frame'\n",
        "w = 0.7 #@param {type:\"slider\", min:0.1, max:0.9, step:0.1}\n",
        "reset_folder('results/frame_'+str(w))\n",
        "\n",
        "# フレームの高画質化\n",
        "! python inference_codeformer.py --w $w\\\n",
        "                                  --test_path $input_folder\\\n",
        "                                  --bg_upsampler realesrgan\\\n",
        "                                  --face_upsample\n",
        "\n",
        "# ログ・クリア\n",
        "clear_output()\n",
        "\n",
        "# 動画の作成\n",
        "print('makeing movie...')\n",
        "fps_r = fps/interval\n",
        "file_path = 'results/frame_'+str(w)+'/final_results/%06d.png'\n",
        "! ffmpeg -y -r $fps_r -i $file_path -vcodec libx264 -pix_fmt yuv420p -loglevel error out.mp4\n",
        "\n",
        "# 音声の抽出・付加\n",
        "print('preparation for sound...')\n",
        "! ffmpeg -y -i $video_file -loglevel error sound.mp3\n",
        "! ffmpeg -y -i out.mp4 -i sound.mp3 -loglevel error output.mp4\n",
        "\n",
        "# 動画の再生\n",
        "print('waiting for play movie...')\n",
        "display_mp4('output.mp4')"
      ],
      "metadata": {
        "id": "ABIHNx4Cnb2n"
      },
      "execution_count": null,
      "outputs": []
    },
    {
      "cell_type": "code",
      "source": [
        "#@title **ダウンロード**\n",
        "#@markdown ■google chrome 専用\n",
        "from google.colab import files\n",
        "import shutil\n",
        "\n",
        "dst_filepath = 'download/'+os.path.splitext(video)[0]+'_s.mp4'\n",
        "shutil.copy('output.mp4', dst_filepath)\n",
        "files.download(dst_filepath)"
      ],
      "metadata": {
        "id": "DRBeTppXSMzi"
      },
      "execution_count": null,
      "outputs": []
    }
  ],
  "metadata": {
    "accelerator": "GPU",
    "colab": {
      "provenance": [],
      "include_colab_link": true
    },
    "gpuClass": "standard",
    "kernelspec": {
      "display_name": "Python 3",
      "name": "python3"
    },
    "language_info": {
      "name": "python"
    }
  },
  "nbformat": 4,
  "nbformat_minor": 0
}